{
 "cells": [
  {
   "cell_type": "markdown",
   "metadata": {
    "collapsed": false
   },
   "source": [
    "# NTRU Encrypt"
   ]
  },
  {
   "cell_type": "code",
   "execution_count": 12,
   "metadata": {
    "collapsed": false
   },
   "outputs": [
    {
     "name": "stdout",
     "output_type": "stream",
     "text": [
      "10 3109 3 1031\n"
     ]
    }
   ],
   "source": [
    "d = 10\n",
    "\n",
    "N = next_prime(1 << d)\n",
    "p = 3\n",
    "q = next_prime(p*N)\n",
    "\n",
    "print d, q, p, N"
   ]
  },
  {
   "cell_type": "code",
   "execution_count": 13,
   "metadata": {
    "collapsed": false
   },
   "outputs": [
    {
     "data": {
      "text/plain": [
       "Univariate Quotient Polynomial Ring in x over Finite Field of size 3109 with modulus x^1031 + 3108"
      ]
     },
     "execution_count": 13,
     "metadata": {
     },
     "output_type": "execute_result"
    }
   ],
   "source": [
    "Z.<x>  = ZZ[]        # polinómios de coeficientes inteiros\n",
    "Q.<x>  = PolynomialRing(GF(q),name='x').quotient(x^N-1); Q"
   ]
  },
  {
   "cell_type": "code",
   "execution_count": 14,
   "metadata": {
    "collapsed": false
   },
   "outputs": [
   ],
   "source": [
    "def vec():\n",
    "    return  [choice([-1,0,1]) for k in range(N)]\n",
    "\n",
    "# arredondamento módulo 'q'\n",
    "\n",
    "def qrnd(f):    # argumento em 'Q'\n",
    "    qq = (q-1)//2 ; ll = map(lift,f.list())\n",
    "    return [n if n <= qq else n - q  for n in ll]\n",
    "\n",
    "# arredondamento módulo 'p'\n",
    "\n",
    "def prnd(l):\n",
    "    pp = (p-1)//2\n",
    "    rr = lambda x: x if x <= pp else x - p\n",
    "    return [rr(n%p) if n>=0 else -rr((-n)%p) for n in l]\n",
    "\n",
    "# comparação módulo 'p'\n",
    "#def equalp(x,y,p):\n",
    "#    return  all([(a-b)%p == 0  for (a,b) in zip(x,y)] )"
   ]
  },
  {
   "cell_type": "code",
   "execution_count": 23,
   "metadata": {
    "collapsed": false
   },
   "outputs": [
   ],
   "source": [
    "import hashlib\n",
    "\n",
    "class NTRU(object):\n",
    "    def __init__(self,N,p,q,d,seed):\n",
    "        # calcular um 'f' invertível\n",
    "        f = Q(0)\n",
    "        while not f.is_unit():\n",
    "            F = Q(vec()); f = 1 + p*F\n",
    "        G = Q(vec()); g = p*G\n",
    "        # gerar as chaves      #10\n",
    "        h = g^(-1) * (p*f + 1)\n",
    "        self.chvpriv = (p*f,g)\n",
    "        self.chvpub = h\n",
    "\n",
    "    def encrypt(self,msg,param,seed):\n",
    "        #mlen = length(m)\n",
    "        #param == N or p or q or d\n",
    "        m = msg + seed\n",
    "\n",
    "        sha256 = hashlib.sha256() #20\n",
    "        sha256.update(m + self.chvpub)\n",
    "        rseed = int(sha256.hexdigest(), 16)\n",
    "\n",
    "        r = Q(vec())\n",
    "        t = r*self.chvpub\n",
    "        sha256.update(h)\n",
    "        tseed = int(sha256.hexdigest(), 16)\n",
    "\n",
    "        m_mask = Q(vec())\n",
    "        m_2 = m - m_mask #30\n",
    "\n",
    "        crip = t + m_2\n",
    "        return crip\n",
    "\n",
    "\n",
    "    def decrypt(self,crip,param):\n",
    "        m_2 = Q(f * crip)\n",
    "        t = crip - m\n",
    "        sha256 = hashlib.sha256()\n",
    "        sha256.update(h) #40\n",
    "        tseed = int(sha256.hexdigest(), 16)\n",
    "\n",
    "        m_mask = Q(vec())\n",
    "        m = Q(m_2 + m_mask)\n",
    "\n",
    "        sha256.update(m + self.chvpub)\n",
    "        rseed = int(sha256.hexdigest(), 16)\n",
    "\n",
    "        r = Q(vec())\n",
    "        msg,mlen = m #50\n",
    "\n",
    "        if p*r*self.chpub == t:\n",
    "            result = msg,mlen\n",
    "        else:\n",
    "            result = \"Error\"\n",
    "        return result"
   ]
  },
  {
   "cell_type": "code",
   "execution_count": 24,
   "metadata": {
    "collapsed": false
   },
   "outputs": [
    {
     "ename": "TypeError",
     "evalue": "can only concatenate list (not \"type\") to list",
     "output_type": "error",
     "traceback": [
      "\u001b[0;31m---------------------------------------------------------------------------\u001b[0m",
      "\u001b[0;31mTypeError\u001b[0m                                 Traceback (most recent call last)",
      "\u001b[0;32m<ipython-input-24-475df24ea60d>\u001b[0m in \u001b[0;36m<module>\u001b[0;34m()\u001b[0m\n\u001b[1;32m      4\u001b[0m \u001b[0mm\u001b[0m \u001b[0;34m=\u001b[0m \u001b[0mvec\u001b[0m\u001b[0;34m(\u001b[0m\u001b[0;34m)\u001b[0m\u001b[0;34m\u001b[0m\u001b[0m\n\u001b[1;32m      5\u001b[0m \u001b[0;31m# Cifrar\u001b[0m\u001b[0;34m\u001b[0m\u001b[0;34m\u001b[0m\u001b[0m\n\u001b[0;32m----> 6\u001b[0;31m \u001b[0me\u001b[0m \u001b[0;34m=\u001b[0m \u001b[0mK\u001b[0m\u001b[0;34m.\u001b[0m\u001b[0mencrypt\u001b[0m\u001b[0;34m(\u001b[0m\u001b[0mm\u001b[0m\u001b[0;34m,\u001b[0m\u001b[0mp\u001b[0m\u001b[0;34m,\u001b[0m\u001b[0mseed\u001b[0m\u001b[0;34m)\u001b[0m\u001b[0;34m\u001b[0m\u001b[0m\n\u001b[0m\u001b[1;32m      7\u001b[0m \u001b[0;31m# Decifrar e Verificar\u001b[0m\u001b[0;34m\u001b[0m\u001b[0;34m\u001b[0m\u001b[0m\n\u001b[1;32m      8\u001b[0m \u001b[0mm\u001b[0m \u001b[0;34m==\u001b[0m \u001b[0mK\u001b[0m\u001b[0;34m.\u001b[0m\u001b[0mdecrypt\u001b[0m\u001b[0;34m(\u001b[0m\u001b[0me\u001b[0m\u001b[0;34m,\u001b[0m\u001b[0mp\u001b[0m\u001b[0;34m)\u001b[0m\u001b[0;34m\u001b[0m\u001b[0m\n",
      "\u001b[0;32m<ipython-input-23-32e5d6b35562>\u001b[0m in \u001b[0;36mencrypt\u001b[0;34m(self, msg, param, seed)\u001b[0m\n\u001b[1;32m     16\u001b[0m         \u001b[0;31m#mlen = length(m)\u001b[0m\u001b[0;34m\u001b[0m\u001b[0;34m\u001b[0m\u001b[0m\n\u001b[1;32m     17\u001b[0m         \u001b[0;31m#param == N or p or q or d\u001b[0m\u001b[0;34m\u001b[0m\u001b[0;34m\u001b[0m\u001b[0m\n\u001b[0;32m---> 18\u001b[0;31m         \u001b[0mm\u001b[0m \u001b[0;34m=\u001b[0m \u001b[0mmsg\u001b[0m \u001b[0;34m+\u001b[0m \u001b[0mseed\u001b[0m\u001b[0;34m\u001b[0m\u001b[0m\n\u001b[0m\u001b[1;32m     19\u001b[0m \u001b[0;34m\u001b[0m\u001b[0m\n\u001b[1;32m     20\u001b[0m         \u001b[0msha256\u001b[0m \u001b[0;34m=\u001b[0m \u001b[0mhashlib\u001b[0m\u001b[0;34m.\u001b[0m\u001b[0msha256\u001b[0m\u001b[0;34m(\u001b[0m\u001b[0;34m)\u001b[0m \u001b[0;31m#20\u001b[0m\u001b[0;34m\u001b[0m\u001b[0m\n",
      "\u001b[0;31mTypeError\u001b[0m: can only concatenate list (not \"type\") to list"
     ]
    }
   ],
   "source": [
    "# Uma instância NTRU\n",
    "K = NTRU(N,p,q,d,seed = vec())\n",
    "# Uma mensagem aleatória\n",
    "m = vec()\n",
    "# Cifrar\n",
    "e = K.encrypt(m,p,seed)  \n",
    "# Decifrar e Verificar\n",
    "m == K.decrypt(e,p)"
   ]
  },
  {
   "cell_type": "code",
   "execution_count": 0,
   "metadata": {
    "collapsed": false
   },
   "outputs": [
   ],
   "source": [
   ]
  }
 ],
 "metadata": {
  "kernelspec": {
   "display_name": "SageMath (stable)",
   "language": "sagemath",
   "metadata": {
    "cocalc": {
     "description": "Open-source mathematical software system",
     "priority": 10,
     "url": "https://www.sagemath.org/"
    }
   },
   "name": "sagemath"
  },
  "language_info": {
   "codemirror_mode": {
    "name": "ipython",
    "version": 2
   },
   "file_extension": ".py",
   "mimetype": "text/x-python",
   "name": "python",
   "nbconvert_exporter": "python",
   "pygments_lexer": "ipython2",
   "version": "2.7.15"
  }
 },
 "nbformat": 4,
 "nbformat_minor": 0
}