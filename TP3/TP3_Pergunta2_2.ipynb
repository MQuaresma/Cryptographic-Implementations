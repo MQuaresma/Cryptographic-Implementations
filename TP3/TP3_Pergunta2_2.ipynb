{
 "cells": [
  {
   "cell_type": "markdown",
   "metadata": {
    "collapsed": false
   },
   "source": [
    "# NTRU Prime \n",
    "segundo o paper **NTRU Prime** de *D.J. Bernstein, C. Chuengsatiansup, T. Lange1 and C. van Vredendaal*."
   ]
  },
  {
   "cell_type": "markdown",
   "metadata": {
    "collapsed": false
   },
   "source": [
    "**Parâmetros e geração dos anéis de polinómios**"
   ]
  },
  {
   "cell_type": "code",
   "execution_count": 2,
   "metadata": {
    "collapsed": false
   },
   "outputs": [
   ],
   "source": [
    "t = 64\n",
    "q = 24*t\n",
    "while True:\n",
    "    if (1+q).is_prime():\n",
    "        break\n",
    "    else:\n",
    "        q += 3\n",
    "q += 1\n",
    "\n",
    "Zx.<x>  = ZZ[]\n",
    "Z3.<y>  = PolynomialRing(GF(3))\n",
    "Gq.<z>  = GF(q)[]\n",
    "\n",
    "p = next_prime(2*t)\n",
    "while True:\n",
    "    if  Gq(x^p-x-1).is_irreducible():\n",
    "        break\n",
    "    else:\n",
    "        p = next_prime(p+1)\n",
    "\n",
    "Zxr.<x> = Zx.quotient(x^p-x-1)\n",
    "Z3r.<y> = Z3.quotient(y^p-y-1)\n",
    "Gqr.<z> = Gq.quotient(z^p-z-1)\n",
    "\n",
    "# lifting\n",
    "\n",
    "def _lift(w):\n",
    "    return Zx(map(lift,w.list()))"
   ]
  },
  {
   "cell_type": "code",
   "execution_count": 3,
   "metadata": {
    "collapsed": false
   },
   "outputs": [
    {
     "name": "stdout",
     "output_type": "stream",
     "text": [
      "2*y^5 + y^4 + y^3 + 1\n",
      "648*z^5 + 1046*z^4 + z^3 + 1\n"
     ]
    }
   ],
   "source": [
    "# Teste de \"casting\"\n",
    "# i.e. converter um polinómio do anel mais geral para um anel mais específico\n",
    "u = Zx([1,0,0,1,3400000003,10000000031]) ; a = Z3r(u) ; b = Gqr(u)\n",
    "print a ; print b"
   ]
  },
  {
   "cell_type": "markdown",
   "metadata": {
    "collapsed": false
   },
   "source": [
    "###  Funções auxiliares"
   ]
  },
  {
   "cell_type": "code",
   "execution_count": 5,
   "metadata": {
    "collapsed": false
   },
   "outputs": [
   ],
   "source": [
    "# random polynomial: generadores, o operador weight e o \"arredondamento\"\n",
    "\n",
    "from random import choice, randint\n",
    "\n",
    "def _small_poly(p,t=None):\n",
    "    if not t:\n",
    "        return Zx([choice([-1,0,1]) for k in range(p)])\n",
    "    u = floor(2*(p-1)//t) ; k = randint(0,u) ; l = [0]*p\n",
    "    while k < p:\n",
    "        l[k] = choice([-1,1]) ; k += randint(1,u)\n",
    "    return Zx(l)\n",
    "\n",
    "def _is_small(w):\n",
    "    return reduce(lambda x,y : x and y^2 <= 1,w.list(),True)\n",
    "\n",
    "def _weight(w):\n",
    "    return reduce(lambda x,y: x+1 if y!=0 else x,w.list()) \n",
    "\n",
    "def _round(w,n=q):\n",
    "    \"\"\"\n",
    "         input:  polinómio em Gqr ou Z3r\n",
    "         output: transpõe os coeficientes para o intervalo -n//2..+n//2\n",
    "    \"\"\"\n",
    "    r = n//2\n",
    "    return Zx(map(lambda x: lift(x + r) - r , w.list()))\n",
    "\n",
    "def _round_3(w):\n",
    "    \"\"\"\n",
    "         transpõe os coeficientes de \"w\" para o intervalo -q//2..+q//2\n",
    "         e arredonda-os ao múltiplo de 3 mais próximo\n",
    "    \"\"\"\n",
    "    def _f(x):\n",
    "        return ((x/3).round())*3\n",
    "    r = q//2\n",
    "    return  Zx(map(lambda x: _f(lift(x+r) - r) , w.list()))\n",
    "\n",
    "import hashlib\n",
    "\n",
    "def Hash(w):\n",
    "    ww = reduce(lambda x,y: x + y.binary(), w.list() , \"\")\n",
    "    return hashlib.sha256(ww).hexdigest()"
   ]
  },
  {
   "cell_type": "markdown",
   "metadata": {
    "collapsed": false
   },
   "source": [
    "**Teste e verificação**"
   ]
  },
  {
   "cell_type": "code",
   "execution_count": 7,
   "metadata": {
    "collapsed": false
   },
   "outputs": [
   ],
   "source": [
    "#u = Gqr(_small_poly(p)) * Gqr(_small_poly(p)) \n",
    "#_round_3(u)"
   ]
  },
  {
   "cell_type": "markdown",
   "metadata": {
    "collapsed": false
   },
   "source": [
    "## A classe NTRUprime\n",
    "\n",
    "Implementada como um KEM"
   ]
  },
  {
   "cell_type": "code",
   "execution_count": 9,
   "metadata": {
    "collapsed": false
   },
   "outputs": [
   ],
   "source": [
    "class NTRUprime(object):\n",
    "    def __init__(self):\n",
    "        g = _small_poly(p)\n",
    "        while not Z3r(g).is_unit():\n",
    "            g = _small_poly(p)\n",
    "        f = _small_poly(p,t) ; g_inv = Z3r(g)^(-1)\n",
    "        self.secret = (f , g_inv)                      # chave privada é um par (Zx, Z3r)\n",
    "        self.pk = Gqr(g)/Gqr(3*f)                      # chave pública em Gqr\n",
    "\n",
    "    def encapsulate(self):\n",
    "        w = _small_poly(p,t)\n",
    "        key = Hash(w)\n",
    "        C   = _round_3(Gqr(w)*self.pk)\n",
    "        return (key, C)\n",
    "\n",
    "    def reveal(self,C):\n",
    "        (f , s) = self.secret\n",
    "        e = s * Z3r(_round(Gqr(3*f) * Gqr(C))) ; w = _round(e,n=3) ;\n",
    "        key = Hash(w)\n",
    "        return key"
   ]
  },
  {
   "cell_type": "markdown",
   "metadata": {
    "collapsed": false
   },
   "source": [
    "**Teste e Verificação**"
   ]
  },
  {
   "cell_type": "code",
   "execution_count": 10,
   "metadata": {
    "collapsed": false
   },
   "outputs": [
    {
     "data": {
      "text/plain": [
       "True"
      ]
     },
     "execution_count": 10,
     "metadata": {
     },
     "output_type": "execute_result"
    }
   ],
   "source": [
    "# instância e geração de chaves\n",
    "K = NTRUprime()\n",
    "# Cifrar\n",
    "(key,C) = K.encapsulate() \n",
    "# Decifrar e verificar\n",
    "key == K.reveal(C)"
   ]
  }
 ],
 "metadata": {
  "kernelspec": {
   "display_name": "SageMath (stable)",
   "language": "sagemath",
   "metadata": {
    "cocalc": {
     "description": "Open-source mathematical software system",
     "priority": 10,
     "url": "https://www.sagemath.org/"
    }
   },
   "name": "sagemath"
  },
  "language_info": {
   "codemirror_mode": {
    "name": "ipython",
    "version": 2
   },
   "file_extension": ".py",
   "mimetype": "text/x-python",
   "name": "python",
   "nbconvert_exporter": "python",
   "pygments_lexer": "ipython2",
   "version": "2.7.15"
  }
 },
 "nbformat": 4,
 "nbformat_minor": 0
}