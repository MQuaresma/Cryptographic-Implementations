{
 "cells": [
  {
   "cell_type": "markdown",
   "metadata": {},
   "source": [
    "# Hidden Number Problem\n",
    "\n",
    "O problema do número escondido está relacionado com duas funções sobre elementos do corpo $Z_p$ e números naturais:\n",
    "1. A primeira função, a **norma de um elemento em $Z_p$**, é definida da seguinte maneira:\n",
    "    $\\mid\\mid X\\mid\\mid_p=$min$(x, p-x)$\n",
    "1. A segunda função devolve os **$k$ bits mais significativos do seu argumento**, um número natural, módulo $p$: $msb_{k,p}(x)$\n",
    "\n",
    "## Boneh & Venkatesan Algorithm"
   ]
  },
  {
   "cell_type": "code",
   "execution_count": 1,
   "metadata": {},
   "outputs": [],
   "source": [
    "import random\n",
    "\n",
    "def matrix_prod(A,B):\n",
    "    ''' Calculate the dot product between two square matrices A and B\n",
    "    '''\n",
    "    C = [[0]*len(A) for i in range(0,len(A))]\n",
    "    for i in range(0,len(A)):\n",
    "        C[i] = [0]*len(A)\n",
    "        for j in range(0,len(A)):\n",
    "            for w in range(0,len(A)):\n",
    "                C[i][j] += A[i][w] * B[w][j]\n",
    "    return C\n",
    "\n",
    "def scalar_matrix_prod(a,M):\n",
    "    ''' Calculate the matrix a * M\n",
    "    '''\n",
    "    C = [[a*x for x in line] for line in M]\n",
    "    return C\n",
    "\n",
    "def identity_matrix(order):\n",
    "    ''' Generate an identity matrix of the given order\n",
    "    '''\n",
    "    i_m = [[0]*order for i in range(0, order)]\n",
    "    for i in range(0, order):\n",
    "        i_m[i][i] = 1\n",
    "    return i_m\n",
    "\n",
    "class BV:\n",
    "    def __init__(self, p, k, l):\n",
    "        self.p = p\n",
    "        self.k = k\n",
    "        self.l = l\n",
    "        self.v_x = [random.randint(0, self.p) for i in range(0,self.l)]\n",
    "        self.lambd = 2 ** (k+1)\n",
    "        self.gen_lattice()\n",
    "        self.target = None\n",
    "\n",
    "    def gen_lattice(self):\n",
    "        self.lattice = scalar_matrix_prod(self.p*self.lambd, identity_matrix(self.l))\n",
    "        self.lattice = scalar_matrix_prod(self.l, self.lattice)\n",
    "\n",
    "        for line in self.lattice:\n",
    "            line.append(0)\n",
    "            \n",
    "        lambd_v_x = [self.lambd * x_i for x_i in self.v_x]\n",
    "        self.lattice.append(self.v_x + [1])\n",
    "        \n",
    "    def define_target(self, target):\n",
    "        self.target = [self.lambd * t_i for t_i in target]\n",
    "    \n",
    "    def run_algorithm(self):\n",
    "        pass"
   ]
  },
  {
   "cell_type": "code",
   "execution_count": 2,
   "metadata": {},
   "outputs": [],
   "source": [
    "bv = BV(10,2,3)"
   ]
  }
 ],
 "metadata": {
  "kernelspec": {
   "display_name": "Python 3",
   "language": "python",
   "name": "python3"
  },
  "language_info": {
   "codemirror_mode": {
    "name": "ipython",
    "version": 3
   },
   "file_extension": ".py",
   "mimetype": "text/x-python",
   "name": "python",
   "nbconvert_exporter": "python",
   "pygments_lexer": "ipython3",
   "version": "3.7.3"
  }
 },
 "nbformat": 4,
 "nbformat_minor": 2
}
