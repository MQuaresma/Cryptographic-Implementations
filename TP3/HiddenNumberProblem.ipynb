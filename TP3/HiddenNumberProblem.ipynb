{
 "cells": [
  {
   "cell_type": "markdown",
   "metadata": {},
   "source": [
    "# Hidden Number Problem\n",
    "\n",
    "O problema do número escondido está relacionado com duas funções sobre elementos do corpo $Z_p$ e números naturais:\n",
    "1. A primeira função, a **norma de um elemento em $Z_p$**, é definida da seguinte maneira:\n",
    "    $\\mid\\mid X\\mid\\mid_p=$min$(x, p-x)$\n",
    "1. A segunda função devolve os **$k$ bits mais significativos do seu argumento**, um número natural, módulo $p$: $msb_{k,p}(x)$\n",
    "\n",
    "## Boneh & Venkatesan Algorithm"
   ]
  },
  {
   "cell_type": "code",
   "execution_count": 662,
   "metadata": {},
   "outputs": [],
   "source": [
    "import numpy as np\n",
    "import random as rand\n",
    "import sage.crypto.lattice as lat\n",
    "from sage.modules.free_module_integer import IntegerLattice\n",
    "\n",
    "class BV:\n",
    "    def __init__(self, p, n, k, s):\n",
    "        self.p = ZZ(p)\n",
    "        self.n = n\n",
    "        if k>= sqrt(len(self.p.bits())):\n",
    "            self.lambd = 2 ** (k+1)\n",
    "            self.x = [ZZ.random_element(self.p) for i in range(0, self.n)]\n",
    "            self.define_target(s)\n",
    "            self.gen_lattice()\n",
    "\n",
    "    def gen_lattice(self):\n",
    "        ''' Calculate the lattice base\n",
    "        '''\n",
    "        b_1 = self.lambd * self.p * identity_matrix(ZZ, self.n)\n",
    "        b_2 = self.lambd * matrix(self.x)\n",
    "        self.G = block_matrix([[b_1, 0],[b_2, 1]])\n",
    "        self.lat = IntegerLattice(self.G)\n",
    "        self.lat_reduced = np.array(self.lat.reduced_basis)\n",
    "    \n",
    "    def msb(self, x):\n",
    "        ''' Return an approximation of the k most significative bits of x\n",
    "        '''\n",
    "        valid_u = False\n",
    "        while (not valid_u):\n",
    "            u = ZZ.random_element(self.p)\n",
    "            xu = (x - u) % self.p\n",
    "            norm_xu = min(xu, self.p - xu)\n",
    "            valid_u = (norm_xu <= self.p//self.lambd)\n",
    "        return u\n",
    "\n",
    "    def define_target(self, s):\n",
    "        u = [self.msb(s * x_i) for x_i in self.x]\n",
    "        self.targ = [self.lambd * u_i for u_i in u]\n",
    "        self.targ.append(0)\n",
    "        \n",
    "    def solve_exact(self):\n",
    "        cv_exact = self.lat.closest_vector(tuple(self.targ))\n",
    "        return cv_exact\n",
    "        \n",
    "    def solve_approx(self):\n",
    "        l_b = matrix(self.lat.reduced_basis)\n",
    "        t_b = matrix(1, self.n+1, [-t_i for t_i in self.targ])\n",
    "        z_b = matrix(self.n+1, 1, [0]*(self.n+1))\n",
    "        M_b = matrix(1, 1, [self.lambd * self.p ** 2])\n",
    "        l1 = block_matrix(2, 2, [ [l_b, z_b], [t_b, M_b]])\n",
    "        l1_reduced = IntegerLattice(l1).reduced_basis\n",
    "        delta = np.array(l1_reduced[self.n+1][:-1])\n",
    "        y1 = matrix(list(self.targ + delta))\n",
    "        return y1    "
   ]
  },
  {
   "cell_type": "code",
   "execution_count": 683,
   "metadata": {},
   "outputs": [
    {
     "name": "stdout",
     "output_type": "stream",
     "text": [
      "x: [6, 6]\n",
      "target: [48, 48, 0]\n",
      "\n",
      "L: \n",
      "[112   0|  0]\n",
      "[  0 112|  0]\n",
      "[-------+---]\n",
      "[ 96  96|  1]\n",
      "\n",
      "Exact CVP: (48, 48, -3)\n",
      "Approx CVP: [48 48 -3]\n"
     ]
    }
   ],
   "source": [
    "p = 7\n",
    "n = 2\n",
    "k = 3\n",
    "s = 4\n",
    "bv = BV(p, n, k, s)\n",
    "exact = bv.solve_exact()\n",
    "approx = bv.solve_approx()\n",
    "print(\"x: \" + str(bv.x))\n",
    "print(\"target: \" + str(bv.targ))\n",
    "print(\"\")\n",
    "print(\"L: \")\n",
    "print(bv.G)\n",
    "print(\"\")\n",
    "print(\"Exact CVP: \" + str(exact))\n",
    "print(\"Approx CVP: \" + str(approx))"
   ]
  }
 ],
 "metadata": {
  "kernelspec": {
   "display_name": "SageMath 8.7",
   "language": "",
   "name": "sagemath"
  },
  "language_info": {
   "codemirror_mode": {
    "name": "ipython",
    "version": 2
   },
   "file_extension": ".py",
   "mimetype": "text/x-python",
   "name": "python",
   "nbconvert_exporter": "python",
   "pygments_lexer": "ipython2",
   "version": "2.7.15"
  }
 },
 "nbformat": 4,
 "nbformat_minor": 2
}
