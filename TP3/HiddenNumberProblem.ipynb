{
 "cells": [
  {
   "cell_type": "markdown",
   "metadata": {},
   "source": [
    "# Hidden Number Problem\n",
    "\n",
    "O problema do número escondido está relacionado com duas funções sobre elementos do corpo $Z_p$ e números naturais:\n",
    "1. A primeira função, a **norma de um elemento em $Z_p$**, é definida da seguinte maneira:\n",
    "    $\\mid\\mid X\\mid\\mid_p=$min$(x, p-x)$\n",
    "1. A segunda função devolve os **$k$ bits mais significativos do seu argumento**, um número natural, módulo $p$: $msb_{k,p}(x)$\n",
    "\n",
    "## Boneh & Venkatesan Algorithm"
   ]
  },
  {
   "cell_type": "code",
   "execution_count": 8,
   "metadata": {},
   "outputs": [
    {
     "name": "stdout",
     "output_type": "stream",
     "text": [
      "[[2, 6], [4, 6]]\n"
     ]
    }
   ],
   "source": [
    "import random\n",
    "\n",
    "def matrix_prod(A,B):\n",
    "    ''' Calculate the dot product between two square matrices A and B\n",
    "    '''\n",
    "    C = [[0]*len(A) for i in range(0,len(A))]\n",
    "    for i in range(0,len(A)):\n",
    "        C[i] = [0]*len(A)\n",
    "        for j in range(0,len(A)):\n",
    "            for w in range(0,len(A)):\n",
    "                C[i][j] += A[i][w] * B[w][j]\n",
    "    return C\n",
    "\n",
    "def scalar_matrix_prod(a,M):\n",
    "    ''' Calculate the matrix a * M\n",
    "    '''\n",
    "    C = [[a*x for x in line] for line in M]\n",
    "    return C\n",
    "\n",
    "def identity_matrix(order):\n",
    "    ''' Generate an identity matrix of the given order\n",
    "    '''\n",
    "    i_m = [[0]*order for i in range(0, order)]\n",
    "    for i range(0, order):\n",
    "        i_m[i][i] = 1\n",
    "    return i_m\n",
    "\n",
    "class BV:\n",
    "    def __init__(self, p, k, l):\n",
    "        self.p = p\n",
    "        self.k = k\n",
    "        self.l = l\n",
    "        self.v_x = [random.randint(0, self.p) for i in range(0,self.l)]\n",
    "        self.lambda = 2 ** (k+1)\n",
    "        self.gen_lattice()\n",
    "\n",
    "    def gen_lattice(self):\n",
    "        pI = scalar_matrix_prod(self.p, identity_matrix(self.l))\n",
    "        pIl = scalar_matrix_prod(self.l, self.pI)\n",
    "        upper_lattice = [line.append(0) for line in pIl]\n",
    "        self.lattice = upper_lattice.append(self.x.append(self.lambda**-1))\n",
    "        \n",
    "    def define_target(self, t):\n",
    "        pass"
   ]
  },
  {
   "cell_type": "code",
   "execution_count": null,
   "metadata": {},
   "outputs": [],
   "source": []
  },
  {
   "cell_type": "code",
   "execution_count": null,
   "metadata": {},
   "outputs": [],
   "source": []
  }
 ],
 "metadata": {
  "kernelspec": {
   "display_name": "Python 3",
   "language": "python",
   "name": "python3"
  },
  "language_info": {
   "codemirror_mode": {
    "name": "ipython",
    "version": 3
   },
   "file_extension": ".py",
   "mimetype": "text/x-python",
   "name": "python",
   "nbconvert_exporter": "python",
   "pygments_lexer": "ipython3",
   "version": "3.7.3"
  }
 },
 "nbformat": 4,
 "nbformat_minor": 2
}
