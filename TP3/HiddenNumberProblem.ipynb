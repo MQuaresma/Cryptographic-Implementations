{
 "cells": [
  {
   "cell_type": "markdown",
   "metadata": {},
   "source": [
    "# Hidden Number Problem\n",
    "\n",
    "O problema do número escondido está relacionado com duas funções sobre elementos do corpo $Z_p$ e números naturais:\n",
    "1. A primeira função, a **norma de um elemento em $Z_p$**, é definida da seguinte maneira:\n",
    "    $\\mid\\mid X\\mid\\mid_p=$min$(x, p-x)$\n",
    "1. A segunda função devolve os **$k$ bits mais significativos do seu argumento**, um número natural, módulo $p$: $msb_{k,p}(x)$"
   ]
  },
  {
   "cell_type": "code",
   "execution_count": null,
   "metadata": {},
   "outputs": [],
   "source": []
  }
 ],
 "metadata": {
  "kernelspec": {
   "display_name": "Python 3",
   "language": "python",
   "name": "python3"
  },
  "language_info": {
   "codemirror_mode": {
    "name": "ipython",
    "version": 3
   },
   "file_extension": ".py",
   "mimetype": "text/x-python",
   "name": "python",
   "nbconvert_exporter": "python",
   "pygments_lexer": "ipython3",
   "version": "3.7.3"
  }
 },
 "nbformat": 4,
 "nbformat_minor": 2
}
