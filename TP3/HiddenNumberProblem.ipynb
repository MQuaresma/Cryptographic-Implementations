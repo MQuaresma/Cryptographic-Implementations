{
 "cells": [
  {
   "cell_type": "markdown",
   "metadata": {},
   "source": [
    "# Hidden Number Problem\n",
    "\n",
    "O problema do número escondido está relacionado com duas funções sobre elementos do corpo $Z_p$ e números naturais:\n",
    "1. A primeira função, a **norma de um elemento em $Z_p$**, é definida da seguinte maneira:\n",
    "    $\\mid\\mid X\\mid\\mid_p=$min$(x, p-x)$\n",
    "1. A segunda função devolve os **$k$ bits mais significativos do seu argumento**, um número natural, módulo $p$: $msb_{k,p}(x)$\n",
    "\n",
    "## Boneh & Venkatesan Algorithm"
   ]
  },
  {
   "cell_type": "code",
   "execution_count": 186,
   "metadata": {},
   "outputs": [],
   "source": [
    "import random\n",
    "\n",
    "class BV:\n",
    "    def __init__(self, p, k, l, s):\n",
    "        self.p = p\n",
    "        self.k = k\n",
    "        self.l = l\n",
    "        self.lambd = 2 ** (k+1)\n",
    "        self.s = s\n",
    "        self.x = [random.randint(0, self.p-1) for i in range(0,self.l)]\n",
    "        self.t = [self.lambd*self.msb(self.s*x_i) for x_i in self.x]\n",
    "        self.t.append(0)\n",
    "        self.gen_lattice()\n",
    "\n",
    "    def gen_lattice(self):\n",
    "        ''' Calculate the lattice base\n",
    "        '''\n",
    "        self.lattice = []\n",
    "        \n",
    "        for i in range(0,self.l):\n",
    "            self.lattice.append([])\n",
    "            for j in range(0, self.l):\n",
    "                if i == j:\n",
    "                    self.lattice[i].append(self.lambd * self.p)\n",
    "                else:\n",
    "                    self.lattice[i].append(0)\n",
    "            \n",
    "        for line in self.lattice:\n",
    "            line.append(0)\n",
    "            \n",
    "        lambd_v_x = [self.lambd * x_i for x_i in self.x]\n",
    "        self.lattice.append(lambd_v_x + [1])\n",
    "    \n",
    "    def msb(self, x):\n",
    "        ''' Return an approximation of the k most significative bits of x\n",
    "        '''\n",
    "        valid_u = False\n",
    "        while (not valid_u):\n",
    "            u = random.randint(0, self.p - 1)\n",
    "            x_u = x - u\n",
    "            norm_int = min(x_u, self.p - x_u)\n",
    "            valid_u = (norm_int <= self.p/self.lambd)\n",
    "        return u\n",
    "    \n",
    "    def run_algorithm(self):\n",
    "        ''' Use B&V to calculate the secret\n",
    "        '''\n",
    "        w = [-(self.s*x_i//self.p) for x_i in self.x]\n",
    "        w.append(self.s)\n",
    "        alfa = [0] * (self.l + 1)\n",
    "        for i in range(0, self.l+1):\n",
    "            for j in range(0, self.l+1):\n",
    "                alfa[i] += w[j]*self.lattice[j][i]\n",
    "        return alfa[self.l]"
   ]
  },
  {
   "cell_type": "code",
   "execution_count": 187,
   "metadata": {},
   "outputs": [
    {
     "data": {
      "text/plain": [
       "4"
      ]
     },
     "execution_count": 187,
     "metadata": {},
     "output_type": "execute_result"
    }
   ],
   "source": [
    "bv = BV(13,2,3,4)\n",
    "bv.run_algorithm()"
   ]
  }
 ],
 "metadata": {
  "kernelspec": {
   "display_name": "Python 3",
   "language": "python",
   "name": "python3"
  },
  "language_info": {
   "codemirror_mode": {
    "name": "ipython",
    "version": 3
   },
   "file_extension": ".py",
   "mimetype": "text/x-python",
   "name": "python",
   "nbconvert_exporter": "python",
   "pygments_lexer": "ipython3",
   "version": "3.7.3"
  }
 },
 "nbformat": 4,
 "nbformat_minor": 2
}
