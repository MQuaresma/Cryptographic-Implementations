{
 "cells": [
  {
   "cell_type": "markdown",
   "metadata": {},
   "source": [
    "# Ataques ao RSA\n",
    "\n",
    "O criptosistema RSA baseia-se na dificuldade em determinar $p$ e $q$ dado um inteiro $N$, tal que $N=p*q$ com $p$ e $q$ primos.\n",
    "\n",
    "Pretende-se implementar os ataques à inversão da chave pública e inversão do criptograma, usando redução de bases.  Verificando para que gama de valores dos parâmetros $N,q$ esses ataques são viáveis."
   ]
  },
  {
   "cell_type": "markdown",
   "metadata": {},
   "source": [
    "## Teorema (CopperSmith, Howgrave-Graham,May)\n",
    "\n",
    "Dado um inteiro $N>1$ e um polinómio mónico $f \\in \\mathbb{Z}[x]$, para todo o parâmetro racional $0<\\beta\\le 1$, é possivel determinar em tempo polinomial, todos os inteiros $w$ tais que:\n",
    "$|w| \\le N^{\\beta ^2 /d}$ e $mdc(f(w),N) \\ge N^{\\beta}$."
   ]
  },
  {
   "cell_type": "markdown",
   "metadata": {},
   "source": [
    "A importância do algoritmo de CopperSmith e, de forma geral, dos algoritmos de redução de bases em reticulados, provém da sua aplicabilidade em ataques a algumas das técnicas mais usadas, nomeadamente ao RSA.\n",
    "\n",
    "## Invertibilidade do criptograma RSA\n",
    "No início do uso do RSA além de não se usar qualquer forma de *padding* aleatória, também prevalecia o mau hábito de usar como chave pública um número primo pequeno, sendo frequente usar-se, para cifrar, um expoente público $d = 3$. Consequentemente, o criptograma relacionava-se com o *plaintext* numa relação da forma:\n",
    "$$c \\equiv m^d mod N,$$\n",
    "sendo N o módulo RSA e $c,m \\in \\mathbb{Z}_{N}^{*}$ o ciptograma e o *plaintext*, respetivamente.\n",
    "\n",
    "Um **ataque por inversão de criptograma** resolve o problema: $$N,d,c\\leadsto m,$$\n",
    "sem passar pelo conhecimento da chave pública.\n",
    "Para usar o **algoritmo de CopperSmith** vamos alterá-lo ligeiramente. Considere-se: $$m = m' + w$$ e o seguinte problema:\n",
    "$$N,d,c,m' \\leadsto w: (w+m')^d \\equiv c \\ mod N.$$\n",
    "\n",
    "Isto é, conhecendo uma parte do *plaintext*, procura-se determinar a diferença: $w = m -m'$, entre o *plaintext* que se pretende conhcer e a parte que já é conhecida.\n",
    "\n",
    "Assim o algoritmo de CopperSmith é, assim, aplicado ao polinómio: $$f(x) \\equiv (x+m')^d -c$$\n",
    "e o que se pretende determinar é a raiz modular deste $f$, i.e., pretende-se clacular $w$ que verifique: $$f(w) \\equiv 0 \\ mod \\ N.$$\n",
    "\n",
    "As condições do algoritmo exigem que $w$ seja limitada a um valor $X \\le N^{\\beta^2/d}.$\n",
    "\n",
    "Usando a versão do algoritmo $\\beta = 1$ e considerando que o ataque se faz em relação à má chave pública, $d = 3$, então será $X \\le N^{1/3}$. Em termos de tamanh, X, que é o tamanho da icógnita w, tem um terço dos *bits* de N.\n",
    "\n",
    "Com estes parâmetros, o algoritmo de CopperSmith calcula as raizes modulares do polinómio $$f(x) \\equiv (x+m')^d-c.$$\n",
    "A raiz $w$, que verifica $f(w) \\equiv 0 \\ mod \\ N$, adicionada à parte conhecida $m'$, produz todo o *plaintext* m."
   ]
  },
  {
   "cell_type": "code",
   "execution_count": 1,
   "metadata": {},
   "outputs": [
    {
     "ename": "SyntaxError",
     "evalue": "invalid syntax (<ipython-input-1-3fae9a288cfa>, line 50)",
     "output_type": "error",
     "traceback": [
      "\u001b[0;36m  File \u001b[0;32m\"<ipython-input-1-3fae9a288cfa>\"\u001b[0;36m, line \u001b[0;32m50\u001b[0m\n\u001b[0;31m    R.<x> = PolynomialRing(N, implementation='NTL')\u001b[0m\n\u001b[0m      ^\u001b[0m\n\u001b[0;31mSyntaxError\u001b[0m\u001b[0;31m:\u001b[0m invalid syntax\n"
     ]
    }
   ],
   "source": [
    "class RSA:\n",
    "    def __init__(self, l):\n",
    "        self.l = int(l)\n",
    "        self.keygen()\n",
    "\n",
    "    def keygen(self):\n",
    "        r = random_prime(2^(floor(l/2)))\n",
    "        p = random_prime(2*r+1)\n",
    "        q = self.p*self.r\n",
    "        m = (self.p-1)*(self.r-1)\n",
    "        k = randint(2,m)\n",
    "        while gcd(m,k)!=1:\n",
    "            k = randint(2,m)\n",
    "        s = power_mod(k,-1,m)\n",
    "        self.pubkey = (q,k)\n",
    "        self.privkey = s\n",
    "\n",
    "    def cifra(self,a):\n",
    "        q,k = self.pubkey\n",
    "        c = power_mod(a,k,q)\n",
    "        return c\n",
    "\n",
    "    def decifra(self, c):\n",
    "        s = self.privkey\n",
    "        q,_=self.pubkey\n",
    "        z = power_mod(c,s,q)\n",
    "        return z\n",
    "\n",
    "    def assina(self,m):\n",
    "        sig = power_mod(m,self.privkey,self.pubkey[0])\n",
    "        return sig\n",
    "\n",
    "    def verifica(self,m, sig):\n",
    "        m_k = power_mod(sig,self.pubkey[1],self.pubkey[0])\n",
    "        return (m_k == m)\n",
    "    \n",
    "class CopperSmith:\n",
    "    def __init__(self, rsa):\n",
    "        if(isinstance(rsa,RSA)):\n",
    "            self.rsa = rsa\n",
    "        else:\n",
    "            raise('rsa parameter must be an object of class RSA')\n",
    "    \n",
    "    def reverse_pub_key(self, beta):\n",
    "        N = Integers(self.rsa.pubkey[0])\n",
    "        hbits = self.rsa.l//4 - 2\n",
    "        hidden_bits = ZZ.random_element(2^(hbits-1), 2^hbits-1)\n",
    "        leaked_bits = self.rsa.p - hidden_bits\n",
    "        \n",
    "        R.<x> = PolynomialRing(N, implementation='NTL')\n",
    "        f = x + leaked_bits\n",
    "        \n",
    "        X = floor(self.rsa.pubkey[0] ^ (beta**2)) #f is of degree one, so d=1\n",
    "        \n",
    "        rts = f.small_roots(beta=beta, X=X)\n",
    "        \n",
    "        if len(rts)>0:\n",
    "            recovered_hidden_b = rts[0]\n",
    "            recovered_p = lift(leaked_bits+recovered_hidden_b)\n",
    "            print(recovered_p == self.rsa.p)\n",
    "            print(self.rsa.pubkey[0] // recovered_p == self.rsa.r)\n",
    "    \n",
    "    \n",
    "    def reverse_pub_key_lattice(self, beta):\n",
    "        N = Integers(self.rsa.pubkey[0])\n",
    "        hbits = self.rsa.l//4 - 2\n",
    "        hidden_bits = ZZ.random_element(2^(hbits-1), 2^hbits-1)\n",
    "        leaked_bits = self.rsa.p - hidden_bits\n",
    "        \n",
    "        R.<x> = PolynomialRing(N, implementation='NTL')\n",
    "        f = x + leaked_bits\n",
    "        X = floor(self.rsa.pubkey[0] ^ (beta**2)) #f is of degree one, so d=1\n",
    "        \n",
    "        roots = map(QQ, [leaked_bits**i for i in range(2)])\n",
    "        LW = matrix(QQ, 2, 1, roots)\n",
    "        G=identity_matrix(QQ, 2).augment(LW)\n",
    "        print(G)\n",
    "        print(G.LLL())\n",
    "        print(hidden_bits)\n",
    "        \n",
    "        rts = f.small_roots(beta=beta, X=X)\n",
    "        if len(rts)>0:\n",
    "            recovered_hidden_b = rts[0]\n",
    "            recovered_p = lift(leaked_bits+recovered_hidden_b)\n",
    "            print(recovered_p == self.rsa.p)\n",
    "            print(self.rsa.pubkey[0] // recovered_p == self.rsa.r)\n",
    "        "
   ]
  },
  {
   "cell_type": "code",
   "execution_count": 2,
   "metadata": {},
   "outputs": [
    {
     "ename": "NameError",
     "evalue": "name 'RSA' is not defined",
     "output_type": "error",
     "traceback": [
      "\u001b[0;31m---------------------------------------------------------------------------\u001b[0m",
      "\u001b[0;31mNameError\u001b[0m                                 Traceback (most recent call last)",
      "\u001b[0;32m<ipython-input-2-87475ebb6896>\u001b[0m in \u001b[0;36m<module>\u001b[0;34m()\u001b[0m\n\u001b[0;32m----> 1\u001b[0;31m \u001b[0mrsa\u001b[0m \u001b[0;34m=\u001b[0m \u001b[0mRSA\u001b[0m\u001b[0;34m(\u001b[0m\u001b[0;36m128\u001b[0m\u001b[0;34m)\u001b[0m\u001b[0;34m\u001b[0m\u001b[0m\n\u001b[0m\u001b[1;32m      2\u001b[0m \u001b[0mcopper\u001b[0m \u001b[0;34m=\u001b[0m \u001b[0mCopperSmith\u001b[0m\u001b[0;34m(\u001b[0m\u001b[0mrsa\u001b[0m\u001b[0;34m)\u001b[0m\u001b[0;34m\u001b[0m\u001b[0m\n\u001b[1;32m      3\u001b[0m \u001b[0mcopper\u001b[0m\u001b[0;34m.\u001b[0m\u001b[0mreverse_pub_key_lattice\u001b[0m\u001b[0;34m(\u001b[0m\u001b[0;36m1\u001b[0m\u001b[0;34m/\u001b[0m\u001b[0;36m2\u001b[0m\u001b[0;34m)\u001b[0m\u001b[0;34m\u001b[0m\u001b[0m\n",
      "\u001b[0;31mNameError\u001b[0m: name 'RSA' is not defined"
     ]
    }
   ],
   "source": [
    "rsa = RSA(128)\n",
    "copper = CopperSmith(rsa)\n",
    "copper.reverse_pub_key_lattice(1/2)"
   ]
  },
  {
   "cell_type": "markdown",
   "metadata": {},
   "source": [
    "Note-se que utilizou-se como padrão beta sempre igual a 1 e considerou-se X o seu limite superior na raiz. Observou-se que quanto maior a parte desconhecida, maior o X deveria ser, e consequentemente mais tempo demora."
   ]
  },
  {
   "cell_type": "code",
   "execution_count": null,
   "metadata": {},
   "outputs": [],
   "source": []
  },
  {
   "cell_type": "code",
   "execution_count": null,
   "metadata": {},
   "outputs": [],
   "source": []
  },
  {
   "cell_type": "code",
   "execution_count": null,
   "metadata": {},
   "outputs": [],
   "source": []
  }
 ],
 "metadata": {
  "kernelspec": {
   "display_name": "Python 3",
   "language": "python",
   "name": "python3"
  },
  "language_info": {
   "codemirror_mode": {
    "name": "ipython",
    "version": 3
   },
   "file_extension": ".py",
   "mimetype": "text/x-python",
   "name": "python",
   "nbconvert_exporter": "python",
   "pygments_lexer": "ipython3",
   "version": "3.7.0"
  }
 },
 "nbformat": 4,
 "nbformat_minor": 2
}
