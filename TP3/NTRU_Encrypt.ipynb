{
 "cells": [
  {
   "cell_type": "markdown",
   "metadata": {},
   "source": [
    "# NTRU Encrypt"
   ]
  },
  {
   "cell_type": "markdown",
   "metadata": {},
   "source": [
    "Num sistema criptográfico NTRU, **f** (e **g**, se necessário) são as chaves privadas, enquanto h\n",
    "é a chave pública. Essas chaves podem ser geradas através do seguinte algoritmo:"
   ]
  },
  {
   "cell_type": "markdown",
   "metadata": {},
   "source": [
    "## Algoritmo de Geração de chaves\n",
    "\n",
    "INPUT: Um conjunto de parâmetros $Param = \\{N, p, q, d\\}$ e uma $seed$.\n",
    "\n",
    "1. Instanciar $Sampler$ com $T(d + 1, d)$ e com a $seed$;\n",
    "2. $f ← Sampler$\n",
    "3. se $f$ não é invertível $mod q$ então retornar ao passo 2\n",
    "4. $g ← Sampler$\n",
    "5. $h = g/(pf + 1) mod q$\n",
    "\n",
    "OUTPUT: Chave pública $h$ e chave secreta $(pf, g)$"
   ]
  },
  {
   "cell_type": "markdown",
   "metadata": {},
   "source": [
    "## Algoritmo de Cifragem\n",
    "\n",
    "INPUT: Chave pública h, mensagem msg de comprimento mlen, um conjunto de parâmetros $Param$ e a $seed$.\n",
    "1. $m = Pad(msg, seed)$\n",
    "2. $rseed = Hash(m|h)$\n",
    "3. Instanciar $Sampler$ com $T$ e com $rseed$;\n",
    "4. $r ← Sampler$\n",
    "5. $t = r ∗ h$\n",
    "6. $tseed = Hash(t)$\n",
    "7. Instanciar $Sampler$ com $T$ e com $tseed$;\n",
    "8. $m_{mask} ← Sampler$\n",
    "9. $m' = m − m_{mask}(mod p)$\n",
    "10. $c = t + m$\n",
    "\n",
    "OUTPUT: Criptograma **c**"
   ]
  },
  {
   "cell_type": "markdown",
   "metadata": {},
   "source": [
    "O algoritmo acima usa um **método de *padding*** para lidar com\n",
    "entropia insuficiente potencial de uma mensagem. Supondo que o tamanho da mensagem é válido e menor que $(N - 173)$ *bits*, o algoritmo *padding* funciona da seguinte maneira:\n",
    "\n",
    "1. Converter $msg$ numa *string* de *bits*. Cada *bit* forma um coeficiente binário para a parte inferior do polinómio $m$, partindo do coeficiente 0.\n",
    "\n",
    "2. Os últimos $167$ coeficientes de $m (x)$ são escolhidos aleatoriamente de $\\{−1, 0, 1\\}$ (com um *input* *seed* ). O que dá mais de $256$ bits de entropia.\n",
    "\n",
    "3. O comprimento da msg é convertido numa *string* binária de 8 *bits* e forma os últimos $173$ a $168$ coeficientes de $m (x)$."
   ]
  },
  {
   "cell_type": "markdown",
   "metadata": {},
   "source": [
    "## Algorithm de Decifragem\n",
    "\n",
    "INPUT: Chave secreta $f$, chave pública $h$, criptograma $c$, e o conjunto de parâmetros $Param$.\n",
    "1. $m' = f ∗ c (mod p)$\n",
    "2. $t = c − m$\n",
    "3. $tseed = Hash(t)$\n",
    "4. Instanciar $Sampler$ com $T$ e com $tseed$;\n",
    "5. $m_{mask} = Sampler$\n",
    "6. $m = m' + m_{mask} (mod p)$\n",
    "7. $rseed = Hash(m|h)$\n",
    "8. Instanciar $Sampler$ com $T$ e com $rseed$;\n",
    "9. $r ← Sampler$\n",
    "10. $msg, mlen = Extract(m)$\n",
    "11. se $p · r ∗ h = t$ então\n",
    "12. $result = msg, mlen$\n",
    "13. caso contrário\n",
    "14. $result = ⊥ $\n",
    "\n",
    "OUTPUT: $result$"
   ]
  },
  {
   "cell_type": "markdown",
   "metadata": {},
   "source": [
    "No algoritmo acima a operação $Extrair ()$ corresponde ao inverso de $Pad ()$. Emite uma mensagem $m$ e seu comprimento $mlen$."
   ]
  },
  {
   "cell_type": "code",
   "execution_count": 12,
   "metadata": {},
   "outputs": [
    {
     "name": "stdout",
     "output_type": "stream",
     "text": [
      "10 3109 3 1031\n"
     ]
    }
   ],
   "source": [
    "d = 10\n",
    "\n",
    "N = next_prime(1 << d)\n",
    "p = 3\n",
    "q = next_prime(p*N)\n",
    "\n",
    "print d, q, p, N"
   ]
  },
  {
   "cell_type": "code",
   "execution_count": 13,
   "metadata": {},
   "outputs": [
    {
     "data": {
      "text/plain": [
       "Univariate Quotient Polynomial Ring in x over Finite Field of size 3109 with modulus x^1031 + 3108"
      ]
     },
     "execution_count": 13,
     "metadata": {},
     "output_type": "execute_result"
    }
   ],
   "source": [
    "Z.<x>  = ZZ[]        # polinómios de coeficientes inteiros\n",
    "Q.<x>  = PolynomialRing(GF(q),name='x').quotient(x^N-1); Q"
   ]
  },
  {
   "cell_type": "code",
   "execution_count": 14,
   "metadata": {},
   "outputs": [],
   "source": [
    "def vec():\n",
    "    return  [choice([-1,0,1]) for k in range(N)]\n",
    "\n",
    "# arredondamento módulo 'q'\n",
    "\n",
    "def qrnd(f):    # argumento em 'Q'\n",
    "    qq = (q-1)//2 ; ll = map(lift,f.list())\n",
    "    return [n if n <= qq else n - q  for n in ll]\n",
    "\n",
    "# arredondamento módulo 'p'\n",
    "\n",
    "def prnd(l):\n",
    "    pp = (p-1)//2\n",
    "    rr = lambda x: x if x <= pp else x - p\n",
    "    return [rr(n%p) if n>=0 else -rr((-n)%p) for n in l]\n",
    "\n",
    "def msg2bits(msg):\n",
    "    '''\n",
    "        Function that converts a message into a string of bits\n",
    "    '''\n",
    "    return bin(reduce(lambda x, y : (x<<8)+y, (ord(c) for c in msg), 1))[3:]\n",
    "\n",
    "def padding(msg,seed):\n",
    "    '''\n",
    "        Padding method\n",
    "    '''\n",
    "    mlen = length(msg)\n",
    "    if mlen < (N-173):\n",
    "        msg = msg2bits(msg)\n",
    "        m = []\n",
    "        for i in range (0,mlen):\n",
    "            \n",
    "            #TODO\n",
    "            choice([-1,0,1]) \n",
    "            \n",
    "\n",
    "\n",
    "def extract(msg):\n",
    "    '''\n",
    "        Inverse of the padding function\n",
    "    '''\n",
    "    #TODO"
   ]
  },
  {
   "cell_type": "code",
   "execution_count": 23,
   "metadata": {},
   "outputs": [],
   "source": [
    "import hashlib\n",
    "\n",
    "class NTRU(object):\n",
    "    def __init__(self,N,p,q,d,seed):\n",
    "        # calcular um 'f' invertível\n",
    "        f = Q(0)\n",
    "        while not f.is_unit():\n",
    "            F = Q(vec()); f = 1 + p*F\n",
    "        G = Q(vec()); g = p*G\n",
    "        # gerar as chaves      #10\n",
    "        h = g^(-1) * (p*f + 1)\n",
    "        self.chvpriv = (p*f,g)\n",
    "        self.chvpub = h\n",
    "\n",
    "    def encrypt(self,msg,param,seed):\n",
    "        m = padding(msh,seed)\n",
    "\n",
    "        sha256 = hashlib.sha256()\n",
    "        sha256.update(m + self.chvpub)\n",
    "        rseed = int(sha256.hexdigest(), 16)\n",
    "\n",
    "        r = Q(vec())\n",
    "        t = r*self.chvpub\n",
    "        sha256.update(h)\n",
    "        tseed = int(sha256.hexdigest(), 16)\n",
    "\n",
    "        m_mask = Q(vec())\n",
    "        m_2 = m - m_mask\n",
    "\n",
    "        crip = t + m_2\n",
    "        return crip\n",
    "\n",
    "\n",
    "    def decrypt(self,crip,param):\n",
    "        m_2 = Q(f * crip)\n",
    "        t = crip - m\n",
    "        sha256 = hashlib.sha256()\n",
    "        sha256.update(h)\n",
    "        tseed = int(sha256.hexdigest(), 16)\n",
    "\n",
    "        m_mask = Q(vec())\n",
    "        m = Q(m_2 + m_mask)\n",
    "\n",
    "        sha256.update(m + self.chvpub)\n",
    "        rseed = int(sha256.hexdigest(), 16)\n",
    "\n",
    "        r = Q(vec())\n",
    "        msg,mlen = m\n",
    "\n",
    "        if p*r*self.chpub == t:\n",
    "            result = msg,mlen\n",
    "        else:\n",
    "            result = \"Error\"\n",
    "        return result"
   ]
  },
  {
   "cell_type": "code",
   "execution_count": 24,
   "metadata": {},
   "outputs": [
    {
     "ename": "TypeError",
     "evalue": "can only concatenate list (not \"type\") to list",
     "output_type": "error",
     "traceback": [
      "\u001b[0;31m---------------------------------------------------------------------------\u001b[0m",
      "\u001b[0;31mTypeError\u001b[0m                                 Traceback (most recent call last)",
      "\u001b[0;32m<ipython-input-24-475df24ea60d>\u001b[0m in \u001b[0;36m<module>\u001b[0;34m()\u001b[0m\n\u001b[1;32m      4\u001b[0m \u001b[0mm\u001b[0m \u001b[0;34m=\u001b[0m \u001b[0mvec\u001b[0m\u001b[0;34m(\u001b[0m\u001b[0;34m)\u001b[0m\u001b[0;34m\u001b[0m\u001b[0m\n\u001b[1;32m      5\u001b[0m \u001b[0;31m# Cifrar\u001b[0m\u001b[0;34m\u001b[0m\u001b[0;34m\u001b[0m\u001b[0m\n\u001b[0;32m----> 6\u001b[0;31m \u001b[0me\u001b[0m \u001b[0;34m=\u001b[0m \u001b[0mK\u001b[0m\u001b[0;34m.\u001b[0m\u001b[0mencrypt\u001b[0m\u001b[0;34m(\u001b[0m\u001b[0mm\u001b[0m\u001b[0;34m,\u001b[0m\u001b[0mp\u001b[0m\u001b[0;34m,\u001b[0m\u001b[0mseed\u001b[0m\u001b[0;34m)\u001b[0m\u001b[0;34m\u001b[0m\u001b[0m\n\u001b[0m\u001b[1;32m      7\u001b[0m \u001b[0;31m# Decifrar e Verificar\u001b[0m\u001b[0;34m\u001b[0m\u001b[0;34m\u001b[0m\u001b[0m\n\u001b[1;32m      8\u001b[0m \u001b[0mm\u001b[0m \u001b[0;34m==\u001b[0m \u001b[0mK\u001b[0m\u001b[0;34m.\u001b[0m\u001b[0mdecrypt\u001b[0m\u001b[0;34m(\u001b[0m\u001b[0me\u001b[0m\u001b[0;34m,\u001b[0m\u001b[0mp\u001b[0m\u001b[0;34m)\u001b[0m\u001b[0;34m\u001b[0m\u001b[0m\n",
      "\u001b[0;32m<ipython-input-23-32e5d6b35562>\u001b[0m in \u001b[0;36mencrypt\u001b[0;34m(self, msg, param, seed)\u001b[0m\n\u001b[1;32m     16\u001b[0m         \u001b[0;31m#mlen = length(m)\u001b[0m\u001b[0;34m\u001b[0m\u001b[0;34m\u001b[0m\u001b[0m\n\u001b[1;32m     17\u001b[0m         \u001b[0;31m#param == N or p or q or d\u001b[0m\u001b[0;34m\u001b[0m\u001b[0;34m\u001b[0m\u001b[0m\n\u001b[0;32m---> 18\u001b[0;31m         \u001b[0mm\u001b[0m \u001b[0;34m=\u001b[0m \u001b[0mmsg\u001b[0m \u001b[0;34m+\u001b[0m \u001b[0mseed\u001b[0m\u001b[0;34m\u001b[0m\u001b[0m\n\u001b[0m\u001b[1;32m     19\u001b[0m \u001b[0;34m\u001b[0m\u001b[0m\n\u001b[1;32m     20\u001b[0m         \u001b[0msha256\u001b[0m \u001b[0;34m=\u001b[0m \u001b[0mhashlib\u001b[0m\u001b[0;34m.\u001b[0m\u001b[0msha256\u001b[0m\u001b[0;34m(\u001b[0m\u001b[0;34m)\u001b[0m \u001b[0;31m#20\u001b[0m\u001b[0;34m\u001b[0m\u001b[0m\n",
      "\u001b[0;31mTypeError\u001b[0m: can only concatenate list (not \"type\") to list"
     ]
    }
   ],
   "source": [
    "# Uma instância NTRU\n",
    "K = NTRU(N,p,q,d,seed = vec())\n",
    "\n",
    "# Uma mensagem aleatória\n",
    "m = vec()\n",
    "# Cifrar\n",
    "e = K.encrypt(m,p,seed)  \n",
    "# Decifrar e Verificar\n",
    "m == K.decrypt(e,p)"
   ]
  },
  {
   "cell_type": "code",
   "execution_count": 0,
   "metadata": {},
   "outputs": [],
   "source": []
  }
 ],
 "metadata": {
  "kernelspec": {
   "display_name": "SageMath (stable)",
   "language": "sagemath",
   "metadata": {
    "cocalc": {
     "description": "Open-source mathematical software system",
     "priority": 10,
     "url": "https://www.sagemath.org/"
    }
   },
   "name": "sagemath"
  },
  "language_info": {
   "codemirror_mode": {
    "name": "ipython",
    "version": 2
   },
   "file_extension": ".py",
   "mimetype": "text/x-python",
   "name": "python",
   "nbconvert_exporter": "python",
   "pygments_lexer": "ipython2",
   "version": "2.7.15"
  }
 },
 "nbformat": 4,
 "nbformat_minor": 1
}
