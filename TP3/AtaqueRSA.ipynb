{
 "cells": [
  {
   "cell_type": "markdown",
   "metadata": {},
   "source": [
    "# Ataques ao RSA\n",
    "\n",
    "O criptosistema RSA baseia-se na dificuldade em determinar $p$ e $q$ dado um inteiro $N$, tal que $N=p*q$ com $p$ e $q$ primos."
   ]
  },
  {
   "cell_type": "code",
   "execution_count": 128,
   "metadata": {},
   "outputs": [],
   "source": [
    "class RSA:\n",
    "    def __init__(self, l):\n",
    "        self.l = l\n",
    "        self.r = random_prime(2^(floor(l/2)))\n",
    "        self.p = next_prime(2*self.r+1)\n",
    "        q = self.p*self.r\n",
    "        m = (self.p-1)*(self.r-1)\n",
    "        k = randint(2,m)\n",
    "        while gcd(m,k)!=1:\n",
    "            k = randint(2,m)\n",
    "        s = power_mod(k,-1,m)\n",
    "        self.pubkey = (q,k)\n",
    "        self.privkey = s\n",
    "\n",
    "    def cifra(self,a):\n",
    "        q,k = self.pubkey\n",
    "        c = power_mod(a,k,q)\n",
    "        return c\n",
    "\n",
    "    def decifra(self, c):\n",
    "        s = self.privkey\n",
    "        q,_=self.pubkey\n",
    "        z = power_mod(c,s,q)\n",
    "        return z\n",
    "\n",
    "    def assina(self,m):\n",
    "        sig = power_mod(m,self.privkey,self.pubkey[0])\n",
    "        return sig\n",
    "\n",
    "    def verifica(self,m, sig):\n",
    "        m_k = power_mod(sig,self.pubkey[1],self.pubkey[0])\n",
    "        return (m_k == m)\n",
    "    \n",
    "class CopperSmith:\n",
    "    def __init__(self, rsa):\n",
    "        if(isinstance(rsa,RSA)):\n",
    "            self.rsa = rsa\n",
    "        else:\n",
    "            raise('rsa parameter must be an object of class RSA')\n",
    "    \n",
    "    def reverse_pub_key(self, beta):\n",
    "        N = Integers(self.rsa.pubkey[0])\n",
    "        hbits = self.rsa.l//4 - 2\n",
    "        hidden_bits = ZZ.random_element(2^(hbits-1), 2^hbits-1)\n",
    "        leaked_bits = self.rsa.p - hidden_bits\n",
    "        \n",
    "        R.<x> = PolynomialRing(N, implementation='NTL')\n",
    "        f = x + leaked_bits\n",
    "        \n",
    "        X = floor(self.rsa.pubkey[0] ^ (beta**2)) #f is of degree one, so d=1\n",
    "        \n",
    "        rts = f.small_roots(beta=beta, X=X)\n",
    "        \n",
    "        if len(rts)>0:\n",
    "            recovered_hidden_b = rts[0]\n",
    "            recovered_p = lift(leaked_bits+recovered_hidden_b)\n",
    "            print(recovered_p == self.rsa.p)\n",
    "            print(self.rsa.pubkey[0] // recovered_p == self.rsa.r)\n",
    "    \n",
    "    \n",
    "    def reverse_pub_key_lattice(self, beta):\n",
    "        N = Integers(self.rsa.pubkey[0])\n",
    "        hbits = self.rsa.l//4 - 2\n",
    "        hidden_bits = ZZ.random_element(2^(hbits-1), 2^hbits-1)\n",
    "        leaked_bits = self.rsa.p - hidden_bits\n",
    "        \n",
    "        R.<x> = PolynomialRing(N, implementation='NTL')\n",
    "        f = x + leaked_bits\n",
    "        X = floor(self.rsa.pubkey[0] ^ (beta**2)) #f is of degree one, so d=1\n",
    "        \n",
    "        roots = map(QQ, [leaked_bits**i for i in range(2)])\n",
    "        LW = matrix(QQ, 2, 1, roots)\n",
    "        G=identity_matrix(QQ, 2).augment(LW)\n",
    "        print(G)\n",
    "        print(G.LLL())\n",
    "        print(hidden_bits)\n",
    "        \n",
    "        rts = f.small_roots(beta=beta, X=X)\n",
    "        if len(rts)>0:\n",
    "            recovered_hidden_b = rts[0]\n",
    "            recovered_p = lift(leaked_bits+recovered_hidden_b)\n",
    "            print(recovered_p == self.rsa.p)\n",
    "            print(self.rsa.pubkey[0] // recovered_p == self.rsa.r)\n",
    "        "
   ]
  },
  {
   "cell_type": "code",
   "execution_count": 129,
   "metadata": {},
   "outputs": [
    {
     "name": "stdout",
     "output_type": "stream",
     "text": [
      "[                  1                   0                   1]\n",
      "[                  0                   1 2332308929521884002]\n",
      "[                   1                    0                    1]\n",
      "[-1166154464760942001                    1  1166154464760942001]\n",
      "611893707\n",
      "True\n",
      "True\n"
     ]
    }
   ],
   "source": [
    "rsa = RSA(128)\n",
    "copper = CopperSmith(rsa)\n",
    "copper.reverse_pub_key_lattice(1/2)"
   ]
  },
  {
   "cell_type": "markdown",
   "metadata": {},
   "source": [
    "## Inversão da chave pública"
   ]
  },
  {
   "cell_type": "code",
   "execution_count": null,
   "metadata": {},
   "outputs": [],
   "source": []
  },
  {
   "cell_type": "markdown",
   "metadata": {},
   "source": [
    "## Inversão do criptograma"
   ]
  },
  {
   "cell_type": "code",
   "execution_count": null,
   "metadata": {},
   "outputs": [],
   "source": []
  },
  {
   "cell_type": "code",
   "execution_count": 103,
   "metadata": {},
   "outputs": [
    {
     "data": {
      "text/plain": [
       "87"
      ]
     },
     "execution_count": 103,
     "metadata": {},
     "output_type": "execute_result"
    }
   ],
   "source": [
    "N = Integers(87)\n",
    "N.order()"
   ]
  },
  {
   "cell_type": "code",
   "execution_count": null,
   "metadata": {},
   "outputs": [],
   "source": []
  },
  {
   "cell_type": "code",
   "execution_count": null,
   "metadata": {},
   "outputs": [],
   "source": []
  }
 ],
 "metadata": {
  "kernelspec": {
   "display_name": "SageMath 8.7",
   "language": "",
   "name": "sagemath"
  },
  "language_info": {
   "codemirror_mode": {
    "name": "ipython",
    "version": 2
   },
   "file_extension": ".py",
   "mimetype": "text/x-python",
   "name": "python",
   "nbconvert_exporter": "python",
   "pygments_lexer": "ipython2",
   "version": "2.7.15"
  }
 },
 "nbformat": 4,
 "nbformat_minor": 2
}
