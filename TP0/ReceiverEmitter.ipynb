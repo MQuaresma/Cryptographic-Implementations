{
 "cells": [
  {
   "cell_type": "markdown",
   "metadata": {},
   "source": [
    "# Cryptography HelloWorld"
   ]
  },
  {
   "cell_type": "code",
   "execution_count": 3,
   "metadata": {},
   "outputs": [],
   "source": [
    "from multiprocessing import Process, Pipe\n",
    "from getpass import getpass\n",
    "\n",
    "class Connection:\n",
    "    def __init__(self, left, right, timeout=None):\n",
    "        left_end, right_end = Pipe()\n",
    "        self.timeout = timeout\n",
    "        self.lproc = Process(target = left, args=(left_end,))\n",
    "        self.rproc = Process(target = right, args=(right_end,))\n",
    "        self.left = lambda : left(left_end)\n",
    "        self.right = lambda : right(right_end)\n",
    "        \n",
    "    def auto(self, proc=None):\n",
    "        if proc == None:\n",
    "            self.lproc.start()\n",
    "            self.rproc.start()\n",
    "            self.lproc.join(self.timeout)\n",
    "            self.rproc.join(self.timeout)\n",
    "        else:\n",
    "            proc.start()\n",
    "            proc.join(self.timeout)\n",
    "    def manual(self):\n",
    "        self.left()\n",
    "        self.right()"
   ]
  },
  {
   "cell_type": "markdown",
   "metadata": {},
   "source": [
    "## Receiver e Emitter"
   ]
  },
  {
   "cell_type": "code",
   "execution_count": 4,
   "metadata": {},
   "outputs": [],
   "source": [
    "from cryptography.hazmat.primitives import hashes\n",
    "from cryptography.hazmat.primitives.kdf.pbkdf2 import PBKDF2HMAC\n",
    "from cryptography.hazmat.backends import default_backend\n",
    "\n",
    "backend = default_backend()\n",
    "cred_salt = os.urandom(16)\n",
    "kdf = PBKDF2HMAC(algorithm=hashes.SHA256(), length=32, salt=cred_salt, iterations=100000, backend=backend)\n",
    "\n",
    "def Receiver(connection):\n",
    "    pwd = getpass('Reciever password: ')\n",
    "    kdf.verify(pwd.encode(\"utf-8\"), key)\n",
    "    payload = conn.recv()\n",
    "    #TODO: Verify integrity/authenticity and decrypt\n",
    "    conn.close()\n",
    "\n",
    "def Emitter(connection):\n",
    "    pwd = getpass('Emitter password: ')\n",
    "    key = kdf.derive(pwd.encode(\"utf-8\"))\n",
    "    payload = 'hello'\n",
    "    payload\n",
    "    conn.send(payload)\n",
    "    conn.close()"
   ]
  },
  {
   "cell_type": "markdown",
   "metadata": {},
   "source": [
    "## Primitivas Criptográficas"
   ]
  },
  {
   "cell_type": "markdown",
   "metadata": {},
   "source": [
    "Para executar a aplicação desenvolvida basta invocar o método `manual` da classe `Connection` após criar um objeto desse tipo."
   ]
  },
  {
   "cell_type": "code",
   "execution_count": 2,
   "metadata": {},
   "outputs": [
    {
     "ename": "NameError",
     "evalue": "name 'Connection' is not defined",
     "output_type": "error",
     "traceback": [
      "\u001b[0;31m---------------------------------------------------------------------------\u001b[0m",
      "\u001b[0;31mNameError\u001b[0m                                 Traceback (most recent call last)",
      "\u001b[0;32m<ipython-input-2-3da3095ff4ba>\u001b[0m in \u001b[0;36m<module>\u001b[0;34m\u001b[0m\n\u001b[0;32m----> 1\u001b[0;31m \u001b[0mConnection\u001b[0m\u001b[0;34m(\u001b[0m\u001b[0mReceiver\u001b[0m\u001b[0;34m,\u001b[0m \u001b[0mEmitter\u001b[0m\u001b[0;34m)\u001b[0m\u001b[0;34m.\u001b[0m\u001b[0mmanual\u001b[0m\u001b[0;34m(\u001b[0m\u001b[0;34m)\u001b[0m\u001b[0;34m\u001b[0m\u001b[0;34m\u001b[0m\u001b[0m\n\u001b[0m",
      "\u001b[0;31mNameError\u001b[0m: name 'Connection' is not defined"
     ]
    }
   ],
   "source": [
    "Connection(Receiver, Emitter).manual()"
   ]
  },
  {
   "cell_type": "code",
   "execution_count": null,
   "metadata": {},
   "outputs": [],
   "source": []
  }
 ],
 "metadata": {
  "kernelspec": {
   "display_name": "Python 3",
   "language": "python",
   "name": "python3"
  },
  "language_info": {
   "codemirror_mode": {
    "name": "ipython",
    "version": 3
   },
   "file_extension": ".py",
   "mimetype": "text/x-python",
   "name": "python",
   "nbconvert_exporter": "python",
   "pygments_lexer": "ipython3",
   "version": "3.7.0"
  }
 },
 "nbformat": 4,
 "nbformat_minor": 2
}
