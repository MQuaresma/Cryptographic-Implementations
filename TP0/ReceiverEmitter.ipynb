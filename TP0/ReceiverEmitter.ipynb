{
 "cells": [
  {
   "cell_type": "markdown",
   "metadata": {},
   "source": [
    "# Cryptography HelloWorld"
   ]
  },
  {
   "cell_type": "code",
   "execution_count": 8,
   "metadata": {},
   "outputs": [],
   "source": [
    "from multiprocessing import Process, Pipe\n",
    "from getpass import getpass\n",
    "\n",
    "class Connection:\n",
    "    def __init__(self, left, right, timeout=None):\n",
    "        left_end, right_end = Pipe()\n",
    "        self.timeout = timeout\n",
    "        self.lproc = Process(target = left, args=(left_end,))\n",
    "        self.rproc = Process(target = right, args=(right_end,))\n",
    "        self.left = lambda : left(left_end)\n",
    "        self.right = lambda : right(right_end)\n",
    "        \n",
    "    def auto(self, proc=None):\n",
    "        if proc == None:\n",
    "            self.lproc.start()\n",
    "            self.rproc.start()\n",
    "            self.lproc.join(self.timeout)\n",
    "            self.rproc.join(self.timeout)\n",
    "        else:\n",
    "            proc.start()\n",
    "            proc.join(self.timeout)\n",
    "    def manual(self):\n",
    "        self.left()\n",
    "        self.right()"
   ]
  },
  {
   "cell_type": "markdown",
   "metadata": {},
   "source": [
    "## Receiver e Emitter\n",
    "\n",
    "A comunicação entre dois agentes com recurso à classe anteriormente definida é feita por meio de duas funções\n",
    "`Emitter` e `Receiver` que enviam e recebem, respetivamente, uma mensagem de cada vez que são invocadas.\n",
    "Ambos os intervenientes devem introduzir uma palavra passe que permitirá a posterior autenticação e cifragem\n",
    "dos dados trocados entre os mesmos. Esta palavra passe é depois processada por um mecanismo de derivação de chaves\n",
    "conhecido como *Password-Based Key Derivation Function* (**PBDKF**) que permite obter chaves de \n",
    "tamanho arbitrário a partir de dados de tamanho reduzido que combina com um valor aleatório conhecido como *salt*.\n",
    "\n",
    "Por forma a garantir a confidenficialidade do conteúdo das mensagens bem como a autenticidade e integridade destas\n",
    "e de dados associados (metadados) foi usada a cifra simétrica AES em modo GCM (*Gallois/Counter Mode*) que permite a \n",
    "autenticação de dados adicionais invocando o método:\n",
    "\n",
    "```\n",
    "cipher.authenticate_additional_data(header.encode(\"utf-8\"))\n",
    "```\n",
    "\n",
    "Esta autenticação é feita via uma *tag* que deve ser introduzida no momento de decifragem dos dados e, caso não corresponda ao valor esperado, resulta numa exceção.\n",
    "\n",
    "Para além da mensagem trocada entre os dois interveniente são ainda enviados dados que permitem a sua decifragem\n",
    "por parte do `Receiver` nomeadamente o IV (*Initialization Vector*) usado na cifragem dos dados, a *tag* esperada\n",
    "para decifrar os mesmos e ainda os metadados previamente autenticados:\n",
    "\n",
    "```\n",
    "payload = {'header': header, 'content': content, 'iv':iv, 'tag': cipher.tag}\n",
    "        \n",
    "conn.send(payload)\n",
    "```"
   ]
  },
  {
   "cell_type": "code",
   "execution_count": 50,
   "metadata": {},
   "outputs": [],
   "source": [
    "import os\n",
    "from cryptography.hazmat.primitives import hashes\n",
    "from cryptography.hazmat.primitives.kdf.pbkdf2 import PBKDF2HMAC\n",
    "from cryptography.hazmat.backends import default_backend\n",
    "from cryptography.hazmat.primitives.ciphers import (\n",
    "    Cipher, algorithms, modes\n",
    ")\n",
    "\n",
    "backend = default_backend()\n",
    "cred_salt = os.urandom(16)\n",
    "\n",
    "def Receiver(conn):\n",
    "    pwd = getpass('Reciever password: ')\n",
    "    try:\n",
    "        kdf = PBKDF2HMAC(algorithm=hashes.SHA256(), length=32, salt=cred_salt, iterations=100000, backend=backend)\n",
    "        key = kdf.derive(pwd.encode(\"utf-8\"))\n",
    "        payload = conn.recv()\n",
    "        iv = payload['iv']\n",
    "        tag = payload['tag']\n",
    "        header = payload['header']\n",
    "        ctxt = payload['content']\n",
    "\n",
    "        decryptor = Cipher(algorithms.AES(key),modes.GCM(iv, tag),backend).decryptor()\n",
    "        decryptor.authenticate_additional_data(header)\n",
    "        print(\"Received: \"+(decryptor.update(ctxt) + decryptor.finalize()).decode(\"utf-8\"))\n",
    "        conn.close()\n",
    "    except:\n",
    "        print(\"Receiver: Erro na autenticação da mensagem\")\n",
    "\n",
    "def Emitter(conn):\n",
    "    pwd = getpass('Emitter password: ')\n",
    "    try:\n",
    "        kdf = PBKDF2HMAC(algorithm=hashes.SHA256(), length=32, salt=cred_salt, iterations=100000, backend=backend)\n",
    "        key = kdf.derive(pwd.encode(\"utf-8\"))\n",
    "        iv = os.urandom(12)\n",
    "        #AES in GCM mode to provide both confidentiality and authentication\n",
    "        cipher = Cipher(algorithms.AES(key),modes.GCM(iv),backend).encryptor()\n",
    "\n",
    "        header = 'msgheader'.encode(\"utf-8\")\n",
    "        content = 'Here is a sample message for testing'\n",
    "\n",
    "        cipher.authenticate_additional_data(header)\n",
    "        print(\"here\")\n",
    "        content = cipher.update(content.encode(\"utf-8\")) + cipher.finalize()\n",
    "\n",
    "        payload = {'header': header, 'content': content, 'iv':iv, 'tag': cipher.tag}\n",
    "\n",
    "        conn.send(payload)\n",
    "        conn.close()\n",
    "    except:\n",
    "       print(\"Emitter: Error\")"
   ]
  },
  {
   "cell_type": "code",
   "execution_count": 49,
   "metadata": {},
   "outputs": [
    {
     "name": "stdout",
     "output_type": "stream",
     "text": [
      "Emitter password: ········\n",
      "here\n",
      "Reciever password: ········\n",
      "Here is a sample message for testing\n"
     ]
    }
   ],
   "source": [
    "Connection(Emitter, Receiver, timeout=10).manual()"
   ]
  },
  {
   "cell_type": "code",
   "execution_count": null,
   "metadata": {},
   "outputs": [],
   "source": []
  }
 ],
 "metadata": {
  "kernelspec": {
   "display_name": "Python 3",
   "language": "python",
   "name": "python3"
  },
  "language_info": {
   "codemirror_mode": {
    "name": "ipython",
    "version": 3
   },
   "file_extension": ".py",
   "mimetype": "text/x-python",
   "name": "python",
   "nbconvert_exporter": "python",
   "pygments_lexer": "ipython3",
   "version": "3.7.2"
  }
 },
 "nbformat": 4,
 "nbformat_minor": 2
}
