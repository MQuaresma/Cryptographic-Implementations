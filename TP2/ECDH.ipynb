{
 "cells": [
  {
   "cell_type": "markdown",
   "metadata": {},
   "source": [
    "# ECDH - *Elliptic Curve Diffie-Hellman*"
   ]
  },
  {
   "cell_type": "markdown",
   "metadata": {},
   "source": [
    "O acordo de chaves *Diffie-Hellman* sobre curvas elípticas (**ECDH**) é um protocolo análogo ao desenvolvido num dado grupo multiplicativo $Z^*_p$."
   ]
  },
  {
   "cell_type": "markdown",
   "metadata": {},
   "source": [
    "## Algoritmo de troca de chaves\n",
    "Consideremos duas entidades **A, B** que pretendem acordar um segredo comum.\n",
    "Consideremos ainda que, previamente ao processo de seguida descrito, estas duas entidades acordaram os parâmetros que definem a curva elíptica e definiram um ponto (da curva) $Q$ de ordem $N$.\n",
    "\n",
    "1. A gera, aleatoriamente, $k_A \\epsilon Z^*_N$, que será a sua chave privada e calcula a sua chave pública $[k_A]Q$\n",
    "2. Analogamente, B gera, aleatoriamente, a sua chave privada $k_B \\epsilon Z^*_N$ e calcula a sua chave pública $[k_B]Q$\n",
    "3. A e B trocam as chaves públicas entre si tal que A recebe $([k_B]Q)$ e B recebe $([k_A]Q)$\n",
    "4. A calcula $[k_A]([k_B] Q) \\equiv [k_A*k_B]Q$\n",
    "5. B calcula $[k_A]([k_B] Q) \\equiv [k_A*k_B]Q$\n",
    "\n",
    "\n",
    "Note-se que uma terceira entidade que intercepte $[k_A]Q$ e $[k_B]Q$ não será capaz de descobrir nem $k_A$, nem $k_B$, sem resolver o problema do logaritmo discreto (*hard problem*)."
   ]
  },
  {
   "cell_type": "markdown",
   "metadata": {},
   "source": [
    "## Implementação\n",
    "\n",
    "A seguinte classe Python implementa o protocolo **ECDH**, usando curvas elípticas sobre corpos binários, com as seguintes restrições:\n",
    "\n",
    "- a dimensão $n$ do corpo $K = GF(2^{n})$ é fornecida como parâmetro de inicialização da classe;\n",
    "\n",
    "- a curva é definita pelas raízes em $K^{2}$ de um polinómio $\\phi \\equiv y^{2} + xy + x^{3}+x^{2}+b$, sendo o parâmetro $b$ escolhido de forma a que a curva $E/\\phi$ tenha um grupo de torsão de ordem prima e de tamanho $\\geq 2^{n-1}$."
   ]
  },
  {
   "cell_type": "code",
   "execution_count": 6,
   "metadata": {},
   "outputs": [],
   "source": [
    "class ECDH:\n",
    "    def __init__(self, n):\n",
    "        self.genCurve(n)\n",
    "        \n",
    "    def genCurve(self, n):\n",
    "        K = GF(2^n)\n",
    "        while True:\n",
    "            b=0\n",
    "            while b==0: #E cannot be a singular curve\n",
    "                b = K.random_element()\n",
    "            E = EllipticCurve(K,[1,1,0,0,b])\n",
    "            e_ord = E.order()\n",
    "            e_fact = list(factor(e_ord))[-1][0]\n",
    "            if e_fact >= (2^(n-1)):\n",
    "                while True:\n",
    "                    P = E.random_element()\n",
    "                    p_ord = P.order()\n",
    "                    if p_ord > e_fact:\n",
    "                        h = Integer(p_ord/e_fact) #cofator h \n",
    "                        Q = h * P\n",
    "                        self.Q = Q\n",
    "                        self.N = e_fact\n",
    "                        return E\n",
    "\n",
    "    def genPrivPubKeyPair(self):\n",
    "        k = randint(0, self.N-1)\n",
    "        kQ = k*self.Q\n",
    "        return k,kQ\n",
    "\n",
    "    def genSharedKey(self, k, sQ):\n",
    "        return k*sQ"
   ]
  },
  {
   "cell_type": "markdown",
   "metadata": {},
   "source": [
    "## Alice"
   ]
  },
  {
   "cell_type": "code",
   "execution_count": 7,
   "metadata": {},
   "outputs": [],
   "source": [
    "def Alice(conn, ecdh):\n",
    "    k, kQ = ecdh.genPrivPubKeyPair()\n",
    "    conn.send(kQ)\n",
    "    sQ = conn.recv()\n",
    "    sKey = ecdh.genSharedKey(k, sQ)\n",
    "    print(\"[Alice] Shared key: \" + str(sKey))"
   ]
  },
  {
   "cell_type": "markdown",
   "metadata": {},
   "source": [
    "## Bob"
   ]
  },
  {
   "cell_type": "code",
   "execution_count": 8,
   "metadata": {},
   "outputs": [],
   "source": [
    "def Bob(conn, ecdh):\n",
    "    s, sQ = ecdh.genPrivPubKeyPair()\n",
    "    kQ = conn.recv()\n",
    "    conn.send(sQ)\n",
    "    sKey = ecdh.genSharedKey(s, kQ)\n",
    "    print(\"[Bob] Shared key: \" + str(sKey))"
   ]
  },
  {
   "cell_type": "code",
   "execution_count": 9,
   "metadata": {},
   "outputs": [],
   "source": [
    "from multiprocessing import Process, Pipe\n",
    "from getpass import getpass\n",
    "\n",
    "class Connection:\n",
    "    def __init__(self, left, right, timeout=None):\n",
    "        left_end, right_end = Pipe()\n",
    "        self.timeout = timeout\n",
    "        ecdh = ECDH(5)\n",
    "        self.lproc = Process(target = left, args=(left_end, ecdh))\n",
    "        self.rproc = Process(target = right, args=(right_end, ecdh))\n",
    "        self.left = lambda : left(left_end)\n",
    "        self.right = lambda : right(right_end)\n",
    "        \n",
    "    def auto(self, proc=None):\n",
    "        if proc == None:\n",
    "            self.lproc.start()\n",
    "            self.rproc.start()\n",
    "            self.lproc.join(self.timeout)\n",
    "            self.rproc.join(self.timeout)\n",
    "        else:\n",
    "            proc.start()\n",
    "            proc.join(self.timeout)\n",
    "    def manual(self):\n",
    "        self.left()\n",
    "        self.right()"
   ]
  },
  {
   "cell_type": "markdown",
   "metadata": {},
   "source": [
    "Como se pode observar, a chave gerada por ambas as entidades são equivalentes."
   ]
  },
  {
   "cell_type": "code",
   "execution_count": 10,
   "metadata": {},
   "outputs": [
    {
     "name": "stdout",
     "output_type": "stream",
     "text": [
      "[Bob] Shared key: (z5^4 + z5^2 + z5 + 1 : z5 + 1 : 1)\n",
      "[Alice] Shared key: (z5^4 + z5^2 + z5 + 1 : z5 + 1 : 1)\n"
     ]
    }
   ],
   "source": [
    "Connection(Alice, Bob, timeout=10).auto()"
   ]
  }
 ],
 "metadata": {
  "kernelspec": {
   "display_name": "SageMath 8.7",
   "language": "",
   "name": "sagemath"
  },
  "language_info": {
   "codemirror_mode": {
    "name": "ipython",
    "version": 2
   },
   "file_extension": ".py",
   "mimetype": "text/x-python",
   "name": "python",
   "nbconvert_exporter": "python",
   "pygments_lexer": "ipython2",
   "version": "2.7.15"
  }
 },
 "nbformat": 4,
 "nbformat_minor": 2
}
