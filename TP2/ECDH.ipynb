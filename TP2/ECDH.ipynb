{
 "cells": [
  {
   "cell_type": "markdown",
   "metadata": {},
   "source": [
    "# ECDH - *Elliptic Curve Diffie-Hellman*"
   ]
  },
  {
   "cell_type": "markdown",
   "metadata": {},
   "source": [
    "O **ECDH** é uma variante do algoritmo de *Diffie-Hellman* mas para curvas elípticas. Mais concretamente, é um protocolo de acordo de chaves que permite que duas partes, cada uma tendo um par de chaves pública-privada sobre uma curva elíptica, estabeleçam um segredo partilhado sobre um canal inseguro."
   ]
  },
  {
   "cell_type": "markdown",
   "metadata": {},
   "source": [
    "Suponhamos que a Alice quer partilhar uma chave com Bob, mas o único canal disponível é susceptível de ser interceptado por terceiros.\n",
    "\n",
    "\n",
    "Inicialmente, a Alice e o Bob geram as suas próprias chaves privadas e públicas. Nomeadamente, a chave privada $d_{A}$ e a chave pública $H_{A} = d_{A}G$ estão associadas à Alice e as chaves $d_{B}$ e $H_{B}= d_{B}G$ ao Bob. Observe-se que Alice e Bob estão usando os mesmos **parâmetros de domínio**: o mesmo ponto base G, na mesma curva elíptica, sobre o mesmo corpo finito.\n",
    "\n",
    "\n",
    "Seguidamente, a Alice e o Bob trocam as suas chaves públicas $H_{A}$ e $H_{B}$ sobre um canal inseguro. Note-se ainda que uma entidade terceira ao interceptar $H_{A}$ e $H_B$ não será capaz de descobrir nem $d_{A}$, nem $d_B$, sem resolver o problema do logaritmo discreto (*hard problem*).\n",
    "\n",
    "\n",
    "Posteriormente, a Alice calcula $S = d_{A}H_{B}$, usando a sua própria chave privada e a chave pública de Bob. E Bob calcula $S = d_{B}H_{A}$, usando a sua própria chave privada e a chave pública de Alice. Observe-se que S é igual tanto para Alice, como para o Bob, pois:\n",
    "$$ S=d_{A}H_{B}=d_{A}(d_{B}G)=d_{B}(d_{A}G)=d_{B}H_{A} $$"
   ]
  },
  {
   "cell_type": "markdown",
   "metadata": {},
   "source": [
    "Segue-se uma classe Python que implementa o ECDH, usando curvas elípticas binárias segundo as seguintes restrições:\n",
    "\n",
    "- a dimensão $n$ do corpo $K = GF(2^{n})$ é fornecida como parâmetro de inicialização da classe;\n",
    "\n",
    "- a curva é definita pelas raízes em $K^{2}$ de um polinómio $\\phi \\equiv y^{2} + xy + x^{3}+x^{2}+b$, sendo o parâmetro $b$ escolhido de forma a que a curva $E/\\phi$ tenha um grupo de torsão de ordem prima e de tamanho $\\geq 2^{n-1}$."
   ]
  },
  {
   "cell_type": "code",
   "execution_count": 376,
   "metadata": {},
   "outputs": [],
   "source": [
    "class ECDH:\n",
    "    def __init__(self, n):\n",
    "        self.genCurve(n)\n",
    "        \n",
    "    def genCurve(self, n):\n",
    "        K = GF(2^n)\n",
    "        while True:\n",
    "            b=0\n",
    "            while b==0: #E cannot be a singular curve\n",
    "                b = K.random_element()\n",
    "            E = EllipticCurve(K,[1,1,0,0,b])\n",
    "            e_ord = E.order()\n",
    "            e_fact = list(factor(e_ord))[-1][0]\n",
    "            if e_fact >= (2^(n-1)):\n",
    "                while True:\n",
    "                    P = E.random_element()\n",
    "                    p_ord = P.order()\n",
    "                    if p_ord > e_fact:\n",
    "                        h = Integer(p_ord/e_fact) #cofator h \n",
    "                        Q = h * P\n",
    "                        self.Q = Q\n",
    "                        self.N = e_fact\n",
    "                        return E\n",
    "\n",
    "    def genPrivPubKeyPair(self):\n",
    "        k = randint(0, self.N-1)\n",
    "        kQ = k*self.Q\n",
    "        return k,kQ\n",
    "\n",
    "    def genSharedKey(self, k, sQ):\n",
    "        return k*sQ"
   ]
  },
  {
   "cell_type": "markdown",
   "metadata": {},
   "source": [
    "## Alice"
   ]
  },
  {
   "cell_type": "code",
   "execution_count": 377,
   "metadata": {},
   "outputs": [],
   "source": [
    "def Alice(conn, ecdh):\n",
    "    k, kQ = ecdh.genPrivPubKeyPair()\n",
    "    conn.send(kQ)\n",
    "    sQ = conn.recv()\n",
    "    sKey = ecdh.genSharedKey(k, sQ)\n",
    "    print(\"[Alice] Shared key: \" + str(sKey))"
   ]
  },
  {
   "cell_type": "markdown",
   "metadata": {},
   "source": [
    "## Bob"
   ]
  },
  {
   "cell_type": "code",
   "execution_count": 378,
   "metadata": {},
   "outputs": [],
   "source": [
    "def Bob(conn, ecdh):\n",
    "    s, sQ = ecdh.genPrivPubKeyPair()\n",
    "    kQ = conn.recv()\n",
    "    conn.send(sQ)\n",
    "    sKey = ecdh.genSharedKey(s, kQ)\n",
    "    print(\"[Bob] Shared key: \" + str(sKey))"
   ]
  },
  {
   "cell_type": "code",
   "execution_count": 379,
   "metadata": {},
   "outputs": [],
   "source": [
    "from multiprocessing import Process, Pipe\n",
    "from getpass import getpass\n",
    "\n",
    "class Connection:\n",
    "    def __init__(self, left, right, timeout=None):\n",
    "        left_end, right_end = Pipe()\n",
    "        self.timeout = timeout\n",
    "        ecdh = ECDH(5)\n",
    "        self.lproc = Process(target = left, args=(left_end, ecdh))\n",
    "        self.rproc = Process(target = right, args=(right_end, ecdh))\n",
    "        self.left = lambda : left(left_end)\n",
    "        self.right = lambda : right(right_end)\n",
    "        \n",
    "    def auto(self, proc=None):\n",
    "        if proc == None:\n",
    "            self.lproc.start()\n",
    "            self.rproc.start()\n",
    "            self.lproc.join(self.timeout)\n",
    "            self.rproc.join(self.timeout)\n",
    "        else:\n",
    "            proc.start()\n",
    "            proc.join(self.timeout)\n",
    "    def manual(self):\n",
    "        self.left()\n",
    "        self.right()"
   ]
  },
  {
   "cell_type": "code",
   "execution_count": 380,
   "metadata": {},
   "outputs": [
    {
     "name": "stdout",
     "output_type": "stream",
     "text": [
      "[Bob] Shared key: (z5^3 + z5^2 : z5^4 + z5^3 : 1)\n",
      "[Alice] Shared key: (z5^3 + z5^2 : z5^4 + z5^3 : 1)\n"
     ]
    }
   ],
   "source": [
    "Connection(Alice, Bob, timeout=10).auto()"
   ]
  }
 ],
 "metadata": {
  "kernelspec": {
   "display_name": "SageMath 8.7",
   "language": "",
   "name": "sagemath"
  },
  "language_info": {
   "codemirror_mode": {
    "name": "ipython",
    "version": 2
   },
   "file_extension": ".py",
   "mimetype": "text/x-python",
   "name": "python",
   "nbconvert_exporter": "python",
   "pygments_lexer": "ipython2",
   "version": "2.7.15"
  }
 },
 "nbformat": 4,
 "nbformat_minor": 2
}
