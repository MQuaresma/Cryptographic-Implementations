{
 "cells": [
  {
   "cell_type": "markdown",
   "metadata": {},
   "source": [
    "# ECDH - Elliptic Curve Diffie-Hellman"
   ]
  },
  {
   "cell_type": "code",
   "execution_count": 376,
   "metadata": {},
   "outputs": [],
   "source": [
    "class ECDH:\n",
    "    def __init__(self, n):\n",
    "        self.genCurve(n)\n",
    "        \n",
    "    def genCurve(self, n):\n",
    "        K = GF(2^n)\n",
    "        while True:\n",
    "            b=0\n",
    "            while b==0: #E cannot be a singular curve\n",
    "                b = K.random_element()\n",
    "            E = EllipticCurve(K,[1,1,0,0,b])\n",
    "            e_ord = E.order()\n",
    "            e_fact = list(factor(e_ord))[-1][0]\n",
    "            if e_fact >= (2^(n-1)):\n",
    "                while True:\n",
    "                    P = E.random_element()\n",
    "                    p_ord = P.order()\n",
    "                    if p_ord > e_fact:\n",
    "                        h = Integer(p_ord/e_fact)\n",
    "                        Q = h * P\n",
    "                        self.Q = Q\n",
    "                        self.N = e_fact\n",
    "                        return\n",
    "\n",
    "    def genPrivPubKeyPair(self):\n",
    "        k = randint(0, self.N-1)\n",
    "        kQ = k*self.Q\n",
    "        return k,kQ\n",
    "\n",
    "    def genSharedKey(self, k, sQ):\n",
    "        return k*sQ"
   ]
  },
  {
   "cell_type": "markdown",
   "metadata": {},
   "source": [
    "## Alice"
   ]
  },
  {
   "cell_type": "code",
   "execution_count": 377,
   "metadata": {},
   "outputs": [],
   "source": [
    "def Alice(conn, ecdh):\n",
    "    k, kQ = ecdh.genPrivPubKeyPair()\n",
    "    conn.send(kQ)\n",
    "    sQ = conn.recv()\n",
    "    sKey = ecdh.genSharedKey(k, sQ)\n",
    "    print(\"[Alice] Shared key: \" + str(sKey))"
   ]
  },
  {
   "cell_type": "markdown",
   "metadata": {},
   "source": [
    "## Bob"
   ]
  },
  {
   "cell_type": "code",
   "execution_count": 378,
   "metadata": {},
   "outputs": [],
   "source": [
    "def Bob(conn, ecdh):\n",
    "    s, sQ = ecdh.genPrivPubKeyPair()\n",
    "    kQ = conn.recv()\n",
    "    conn.send(sQ)\n",
    "    sKey = ecdh.genSharedKey(s, kQ)\n",
    "    print(\"[Bob] Shared key: \" + str(sKey))"
   ]
  },
  {
   "cell_type": "code",
   "execution_count": 379,
   "metadata": {},
   "outputs": [],
   "source": [
    "from multiprocessing import Process, Pipe\n",
    "from getpass import getpass\n",
    "\n",
    "class Connection:\n",
    "    def __init__(self, left, right, timeout=None):\n",
    "        left_end, right_end = Pipe()\n",
    "        self.timeout = timeout\n",
    "        ecdh = ECDH(5)\n",
    "        self.lproc = Process(target = left, args=(left_end, ecdh))\n",
    "        self.rproc = Process(target = right, args=(right_end, ecdh))\n",
    "        self.left = lambda : left(left_end)\n",
    "        self.right = lambda : right(right_end)\n",
    "        \n",
    "    def auto(self, proc=None):\n",
    "        if proc == None:\n",
    "            self.lproc.start()\n",
    "            self.rproc.start()\n",
    "            self.lproc.join(self.timeout)\n",
    "            self.rproc.join(self.timeout)\n",
    "        else:\n",
    "            proc.start()\n",
    "            proc.join(self.timeout)\n",
    "    def manual(self):\n",
    "        self.left()\n",
    "        self.right()"
   ]
  },
  {
   "cell_type": "code",
   "execution_count": 380,
   "metadata": {},
   "outputs": [
    {
     "name": "stdout",
     "output_type": "stream",
     "text": [
      "[Bob] Shared key: (z5^3 + z5^2 : z5^4 + z5^3 : 1)\n",
      "[Alice] Shared key: (z5^3 + z5^2 : z5^4 + z5^3 : 1)\n"
     ]
    }
   ],
   "source": [
    "Connection(Alice, Bob, timeout=10).auto()"
   ]
  }
 ],
 "metadata": {
  "kernelspec": {
   "display_name": "SageMath 8.7",
   "language": "",
   "name": "sagemath"
  },
  "language_info": {
   "codemirror_mode": {
    "name": "ipython",
    "version": 2
   },
   "file_extension": ".py",
   "mimetype": "text/x-python",
   "name": "python",
   "nbconvert_exporter": "python",
   "pygments_lexer": "ipython2",
   "version": "2.7.15"
  }
 },
 "nbformat": 4,
 "nbformat_minor": 2
}
