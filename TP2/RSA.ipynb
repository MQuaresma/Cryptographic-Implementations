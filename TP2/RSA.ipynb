{
 "cells": [
  {
   "cell_type": "markdown",
   "metadata": {},
   "source": [
    "# RSA - *Rivest-Shamir-Adleman*"
   ]
  },
  {
   "cell_type": "markdown",
   "metadata": {},
   "source": [
    "O **RSA** é um dos primeiros sistemas de criptografia de chave pública e é bastante utilizado para a transmissão segura de dados. Neste sistema, a chave de cifragem é pública e é diferente da chave de decifragem, que é secreta (privada).\n",
    "\n",
    "## Setup\n",
    "\n",
    "Como *input*, o algoritmo recebe um inteiro $l$ que, neste contexto, se designa por **parâmetro de segurança**. Com base neste valor são gerados dois números primos grandes **p** e **r**, com $p > 2r > 2^{l/2}$, que constituem parte da informação classificada como privada.\n",
    "\n",
    "De seguida, calcula-se: $q = p\\ q$, designado por **módulo**, que faz parte da informação classificada como pública.\n",
    "\n",
    "Determina-se: **m** $= \\phi(q) = (p-1)(r-1)$, classificado como privado.\n",
    "\n",
    "A chave pública, um inteiro **k**, é gerada posteriormente de modo que se verique: $mdc\\ (k, m) = 1$. Calcula-se a inversa de k módulo m, **s**, tal que: $$ s = \\frac{1}{k}\\ mod\\ m. $$\n",
    "\n",
    "O algoritmo produz assim dois *outputs*:\n",
    "\n",
    "- a chave privada **s**;\n",
    "\n",
    "- a chave pública **k** e o módulo **q**."
   ]
  },
  {
   "cell_type": "markdown",
   "metadata": {},
   "source": [
    "## Cifragem\n",
    "Para cifrar uma mensagem **a** $\\not\\equiv 0\\ mod\\ (q)$, o algoritmo de cifra constrói um criptograma: $$c = a^{k}\\ mod \\ q$$."
   ]
  },
  {
   "cell_type": "markdown",
   "metadata": {},
   "source": [
    "## Decifragem\n",
    "A decifragem de um dado criptograma $c$ é dada pela seguinte expressão:\n",
    "$$a' \\equiv c ^{s}\\ mod\\ q \\Rightarrow (a^{k}) ^{s}\\ mod\\ q \\equiv^{(1)} a\\ mod\\ q,\\ pelo\\ Teorema\\ RSA^{(1)}$$"
   ]
  },
  {
   "cell_type": "markdown",
   "metadata": {},
   "source": [
    "## Assinatura Digital\n",
    "\n",
    "Para assinar uma mensagem $0<$ m $< q$, o algoritmo de assinatura constrói a assinatura: **sig** $\\equiv m^{s} mod\\ q$.\n",
    "A verificação de uma assinatura **sig** referente a uma mensagem $m'$ e associada à chave pública $k$, é verificada da seguinte maneira: $$ m == {sig}^{k}\\ mod \\ q \\equiv m'^{{s}^{k}}\\ mod\\ q$$\n",
    "Se $m == m'$ a expressão será avaliada como verdadeira, autenticando a mensagem com sucesso."
   ]
  },
  {
   "cell_type": "code",
   "execution_count": 1,
   "metadata": {},
   "outputs": [],
   "source": [
    "class RSA:\n",
    "    def __init__(self, l):\n",
    "        r = random_prime(2^(floor(l/2)))\n",
    "        p = random_prime(2*r+1)\n",
    "        q = p*r\n",
    "        m = (p-1)*(r-1)\n",
    "        k = randint(2,m)\n",
    "        while gcd(m,k)!=1:\n",
    "            k = randint(2,m)\n",
    "        s = power_mod(k,-1,m)\n",
    "        self.pubkey = (q,k)\n",
    "        self.privkey = s\n",
    "\n",
    "    def cifra(self,a):\n",
    "        q,k = self.pubkey\n",
    "        c = power_mod(a,k,q)\n",
    "        return c\n",
    "\n",
    "    def decifra(self, c):\n",
    "        s = self.privkey\n",
    "        q,_=self.pubkey\n",
    "        z = power_mod(c,s,q)\n",
    "        return z\n",
    "\n",
    "    def assina(self,m):\n",
    "        sig = power_mod(m,self.privkey,self.pubkey[0])\n",
    "        return sig\n",
    "\n",
    "    def verifica(self,m, sig):\n",
    "        m_k = power_mod(sig,self.pubkey[1],self.pubkey[0])\n",
    "        return (m_k == m)"
   ]
  },
  {
   "cell_type": "code",
   "execution_count": 2,
   "metadata": {},
   "outputs": [],
   "source": [
    "R = RSA(16);\n",
    "msg = 1234\n",
    "criptograma = R.cifra(msg)"
   ]
  },
  {
   "cell_type": "code",
   "execution_count": 3,
   "metadata": {},
   "outputs": [
    {
     "data": {
      "text/plain": [
       "1234"
      ]
     },
     "execution_count": 3,
     "metadata": {},
     "output_type": "execute_result"
    }
   ],
   "source": [
    "R.decifra(criptograma)"
   ]
  },
  {
   "cell_type": "code",
   "execution_count": 4,
   "metadata": {},
   "outputs": [
    {
     "data": {
      "text/plain": [
       "True"
      ]
     },
     "execution_count": 4,
     "metadata": {},
     "output_type": "execute_result"
    }
   ],
   "source": [
    "sig = R.assina(msg); R.verifica(msg,sig)"
   ]
  }
 ],
 "metadata": {
  "kernelspec": {
   "display_name": "SageMath 8.7",
   "language": "",
   "name": "sagemath"
  },
  "language_info": {
   "codemirror_mode": {
    "name": "ipython",
    "version": 2
   },
   "file_extension": ".py",
   "mimetype": "text/x-python",
   "name": "python",
   "nbconvert_exporter": "python",
   "pygments_lexer": "ipython2",
   "version": "2.7.15"
  }
 },
 "nbformat": 4,
 "nbformat_minor": 1
}
