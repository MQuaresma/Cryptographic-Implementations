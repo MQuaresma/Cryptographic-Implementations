{
 "cells": [
  {
   "cell_type": "markdown",
   "metadata": {},
   "source": [
    "# ECDH - Elliptic Curve Diffie-Hellman"
   ]
  },
  {
   "cell_type": "code",
   "execution_count": 1,
   "metadata": {},
   "outputs": [
    {
     "data": {
      "text/plain": [
       "True"
      ]
     },
     "execution_count": 1,
     "metadata": {},
     "output_type": "execute_result"
    }
   ],
   "source": [
    "n = ZZ.random_element(0,256);n\n",
    "K = GF(2^n);K\n",
    "b = 5\n",
    "E = EllipticCurve(GF(2^n),[1,1,0,0,b]); E\n",
    "QQ.<x,y> = PolynomialRing(QQ,2)\n",
    "phi = y^2 + x*y + x^3 + x^2 +b\n",
    "E.order()\n",
    "P = E.random_point();P\n",
    "P.order()\n",
    "# Alice escolhe kA\n",
    "kA = randint(1,P.order());kA\n",
    "# Bob escolhe kB\n",
    "kB = randint(1,P.order());kB\n",
    "# Alice calcula PA=kA*P; Bob calcula PB=kB*P\n",
    "PA = kA*P\n",
    "PB = kB*P\n",
    "PA,PB\n",
    "#Alice calcula KA*PB; Bob calcula KB*PA\n",
    "kA*PB == kB*PA"
   ]
  }
 ],
 "metadata": {
  "kernelspec": {
   "display_name": "SageMath 8.6",
   "language": "",
   "name": "sagemath"
  },
  "language_info": {
   "codemirror_mode": {
    "name": "ipython",
    "version": 2
   },
   "file_extension": ".py",
   "mimetype": "text/x-python",
   "name": "python",
   "nbconvert_exporter": "python",
   "pygments_lexer": "ipython2",
   "version": "2.7.15"
  }
 },
 "nbformat": 4,
 "nbformat_minor": 2
}
