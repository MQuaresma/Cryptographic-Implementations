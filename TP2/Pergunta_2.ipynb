{
 "cells": [
  {
   "cell_type": "markdown",
   "metadata": {
    "collapsed": true
   },
   "source": [
    "# ECDSA\n",
    "Segue-se a implementação do ECDSA, usando a curva elitica prima **P-521**, definida no **FIPS186-4**."
   ]
  },
  {
   "cell_type": "markdown",
   "metadata": {},
   "source": [
    "Seja **E** uma curva elíptica sobre $\\mathbb{F}_{p}$, com $p$ primo, e seja P um ponto de ordem prima $q$ em $E(\\mathbb{F}_{p})$. Suponha que Alice deseje enviar uma mensagem assinada para Bob.\n",
    "\n",
    "## SETUP\n",
    "A Alice faz o seguinte:"
   ]
  },
  {
   "cell_type": "code",
   "execution_count": 37,
   "metadata": {},
   "outputs": [],
   "source": [
    "class ECDSA:\n",
    "    def __init__(self):\n",
    "        p = 2^521 - 1;\n",
    "        F = GF(p)\n",
    "        A = p - 3\n",
    "        B = 1093849038073734274511112390766805569936207598951683748994586394495953116150735016013708737573759623248592132296706313309438452531591012912142327488478985984\n",
    "        self.q = 6864797660130609714981900799081393217269435300143305409394463459185543183397655394245057746333217197532963996371363321113864768612440380340372808892707005449\n",
    "        E = EllipticCurve([F(A), F(B)])\n",
    "        self.P = E.random_point()\n",
    "        self.chv_priv = ZZ.random_element(1,self.q-1)\n",
    "        self.chv_pub = self.chv_priv*self.P\n",
    "\n",
    "    def sign(self,m):\n",
    "        k = ZZ.random_element(1,self.q-1)\n",
    "        x_1 = (k*self.P)[0]\n",
    "        y_1 = (k*self.P)[1]\n",
    "        r = mod(x_1,self.q)\n",
    "        if r ==0:\n",
    "            k = ZZ.random_element(1,self.q-1)\n",
    "            x_1 = (k*self.P)[0]\n",
    "            y_1 = (k*self.P)[1]\n",
    "            r = mod(x_1,self.q)\n",
    "        k_1 = mod(k^(-1),self.q)\n",
    "        h = hash(m)\n",
    "        s = mod((k_1*(h+self.chv_priv*r)),self.q)\n",
    "        if s ==0:\n",
    "            k = ZZ.random_element(1,self.q-1)\n",
    "            x_1 = (k*self.P)[0]\n",
    "            y_1 = (k*self.P)[1]\n",
    "            r = mod(x_1,self.q)\n",
    "            if r ==0:\n",
    "                k = ZZ.random_element(1,self.q-1)\n",
    "                x_1 = (k*self.P)[0]\n",
    "                y_1 = (k*self.P)[1]\n",
    "                r = mod(x_1,self.q)\n",
    "            k_1 = mod(k^(-1),self.q)\n",
    "            h = hash(m)\n",
    "            s = mod((k_1*(h+self.chv_priv*r)),self.q)\n",
    "        sig = (r,s)\n",
    "        return sig\n",
    "\n",
    "    def verify(self,sig,m):\n",
    "        r = sig[0]\n",
    "        s = sig[1]\n",
    "        w = mod(s^(-1),self.q)\n",
    "        h = hash(m)\n",
    "        u_1 = mod(h*w,self.q)\n",
    "        u_2 = mod(r*w,self.q)\n",
    "        x_0 = (ZZ(u_1)*self.P+ZZ(u_2)*self.chv_pub)[0]\n",
    "        v = mod(x_0,self.q)\n",
    "        return (v == r)"
   ]
  },
  {
   "cell_type": "code",
   "execution_count": 38,
   "metadata": {},
   "outputs": [],
   "source": [
    "ECDSA = ECDSA()\n",
    "msg = 33333;\n",
    "assinatura = ECDSA.sign(msg)"
   ]
  },
  {
   "cell_type": "code",
   "execution_count": 39,
   "metadata": {},
   "outputs": [
    {
     "data": {
      "text/plain": [
       "True"
      ]
     },
     "execution_count": 39,
     "metadata": {},
     "output_type": "execute_result"
    }
   ],
   "source": [
    "ECDSA.verify(assinatura,msg)"
   ]
  }
 ],
 "metadata": {
  "kernelspec": {
   "display_name": "SageMath 8.7",
   "language": "",
   "name": "sagemath"
  },
  "language_info": {
   "codemirror_mode": {
    "name": "ipython",
    "version": 2
   },
   "file_extension": ".py",
   "mimetype": "text/x-python",
   "name": "python",
   "nbconvert_exporter": "python",
   "pygments_lexer": "ipython2",
   "version": "2.7.15"
  }
 },
 "nbformat": 4,
 "nbformat_minor": 1
}
