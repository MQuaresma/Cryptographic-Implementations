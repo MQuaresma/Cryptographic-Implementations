{
 "cells": [
  {
   "cell_type": "markdown",
   "metadata": {},
   "source": [
    "# RSA - Rivest Shamir Adleman"
   ]
  },
  {
   "cell_type": "code",
   "execution_count": 5,
   "metadata": {},
   "outputs": [],
   "source": [
    "class RSA:\n",
    "    def __init__(self, l):\n",
    "        p = random_prime(2^(floor(l/2)))\n",
    "        q = random_prime(2^(floor(l/2)))\n",
    "        n = p*q\n",
    "        m = (p-1)*(q-1)\n",
    "        e = randint(2,n)\n",
    "        while gcd(m,e)!=1:\n",
    "            e = randint(2,m)\n",
    "        d = power_mod(e,-1,m)\n",
    "        self.pubkey = (n,e)\n",
    "        self.privkey = d\n",
    "\n",
    "    def cifra(self,x):\n",
    "        n,e = self.pubkey\n",
    "        y = power_mod(x,e,n)\n",
    "        return y\n",
    "\n",
    "    def decifra(self, y):\n",
    "        d = self.privkey\n",
    "        n,_=self.pubkey\n",
    "        z = power_mod(y,d,n)\n",
    "        return z\n",
    "\n",
    "    def assina(self,x):\n",
    "        y = power_mod(x,self.privkey,self.pubkey[0])\n",
    "        return y\n",
    "\n",
    "    def verifica(self,x, sig):\n",
    "        x_k = power_mod(sig,self.pubkey[1],self.pubkey[0])\n",
    "        return (x_k == x)"
   ]
  },
  {
   "cell_type": "code",
   "execution_count": 6,
   "metadata": {},
   "outputs": [],
   "source": [
    "R = RSA(16);\n",
    "msg = 1234\n",
    "criptograma = R.cifra(msg)"
   ]
  },
  {
   "cell_type": "code",
   "execution_count": 7,
   "metadata": {},
   "outputs": [
    {
     "data": {
      "text/plain": [
       "1234"
      ]
     },
     "execution_count": 7,
     "metadata": {},
     "output_type": "execute_result"
    }
   ],
   "source": [
    "R.decifra(criptograma)\n"
   ]
  },
  {
   "cell_type": "code",
   "execution_count": 8,
   "metadata": {},
   "outputs": [
    {
     "data": {
      "text/plain": [
       "True"
      ]
     },
     "execution_count": 8,
     "metadata": {},
     "output_type": "execute_result"
    }
   ],
   "source": [
    "sig = R.assina(msg); R.verifica(msg,sig)"
   ]
  }
 ],
 "metadata": {
  "kernelspec": {
   "display_name": "SageMath 8.6",
   "language": "",
   "name": "sagemath"
  },
  "language_info": {
   "codemirror_mode": {
    "name": "ipython",
    "version": 2
   },
   "file_extension": ".py",
   "mimetype": "text/x-python",
   "name": "python",
   "nbconvert_exporter": "python",
   "pygments_lexer": "ipython2",
   "version": "2.7.15"
  }
 },
 "nbformat": 4,
 "nbformat_minor": 2
}
