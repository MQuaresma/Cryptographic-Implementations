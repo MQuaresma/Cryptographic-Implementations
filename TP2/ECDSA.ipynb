{
 "cells": [
  {
   "cell_type": "markdown",
   "metadata": {
    "collapsed": true
   },
   "source": [
    "# ECDSA - *Elliptic Curve Digital Signature Algorithm*\n",
    "\n",
    "Segue-se a implementação do ECDSA, usando a curva elitica prima **P-521**, definida no **FIPS186-4**. Note-se que, para a mesma, tomou-se como referência as páginas  394 e 395 do seguinte livro: *S. Yan, Number Theory for Computing, Springer, 2002*.\n",
    "\n",
    "Seja **E** uma curva elíptica sobre $\\mathbb{F}_{p}$, sendo $p$ primo. Seja ainda P um ponto de ordem prima $q$ em $E(\\mathbb{F}_{p})$. Suponha que Alice deseje enviar uma mensagem assinada para Bob."
   ]
  },
  {
   "cell_type": "markdown",
   "metadata": {},
   "source": [
    "## SETUP\n",
    "\n",
    "A Alice procede da seguinte forma:\n",
    "\n",
    "1. Selecciona um inteiro aleatório $x \\in [1,q-1]$;\n",
    "\n",
    "2. Calcula $Q = xP;$\n",
    "\n",
    "3. Torna $Q$ público e mantém $x$ privado.\n",
    "\n",
    "Desta forma, aAlice gera a chave pública $Q$ e a chave privada $x$."
   ]
  },
  {
   "cell_type": "markdown",
   "metadata": {},
   "source": [
    "## GERAÇÃO DA ASSINATURA\n",
    "\n",
    "Para assinar a mensagem $m$, a Alice faz o seguinte:\n",
    "\n",
    "1. Seleciona novamente um inteiro aleatório, $k \\in [1,q-1]$;\n",
    "\n",
    "2. Determina $kP = (x_{1},y_{1})$ e $r\\equiv x_{1} (mod\\ q)$. Se $r=0$, regressa ao ponto 1;\n",
    "\n",
    "3. Calcula $k^{-1} mod\\ q$;\n",
    "\n",
    "4. Efectua $s \\equiv k^{-1}(H(m)+xr)(mod q)$, sendo $H(m)$ o valor *hash* da mensagem. Se $s=0$, retorna ao passo 1.\n",
    "\n",
    "A assinatura da mensagem $m$ é o par de inteiros $(r,s).$"
   ]
  },
  {
   "cell_type": "markdown",
   "metadata": {},
   "source": [
    "## VERIFICAÇÃO DA ASSINATURA\n",
    "\n",
    "Para verificar a assinatura, $(r,s)$, da mensagem $m$ da Alice, o Bob deve:\n",
    "1. Obter um cópia autêntica da chave pública da Alice, Q.\n",
    "\n",
    "2. Verificar que $(r,s)$ são inteiros compreendidos no intervalo $[1,q-1]$, calcular $kP = (x_{1},y_{1})$ e $r \\equiv x_{1} (mod\\ q)$;\n",
    "\n",
    "3. Determinar $w \\equiv s^{-1}(mod\\ q)$ e $H(m);$\n",
    "\n",
    "4. Calcular $u_{1}\\equiv H(m)\\ w\\  (mod\\ q)$ e $u_{2}\\equiv r\\ w\\ (mod\\ q)$;\n",
    "\n",
    "5. Determinar $u_{1}P + u_{2}Q = (x_0,y_0)$ e $v \\equiv x_{0}(mod q);$\n",
    "\n",
    "6. A assinatura é validade se e só se: $v = r$."
   ]
  },
  {
   "cell_type": "code",
   "execution_count": 37,
   "metadata": {},
   "outputs": [],
   "source": [
    "class ECDSA:\n",
    "    def __init__(self):\n",
    "        p = 2^521 - 1;\n",
    "        F = GF(p)\n",
    "        A = p - 3\n",
    "        B = 10938490380737342745111123907668055699362075989516837489945863\n",
    "        944959531161507350160137087375737596232485921322967063133094384525\n",
    "        31591012912142327488478985984\n",
    "        self.q = 686479766013060971498190079908139321726943530014330540939\n",
    "        446345918554318339765539424505774633321719753296399637136332111386\n",
    "        4768612440380340372808892707005449\n",
    "        E = EllipticCurve([F(A), F(B)])\n",
    "        self.P = E.random_point()\n",
    "        self.chv_priv = ZZ.random_element(1,self.q-1)\n",
    "        self.chv_pub = self.chv_priv*self.P\n",
    "\n",
    "    def sign(self,m):\n",
    "        k = ZZ.random_element(1,self.q-1)\n",
    "        x_1 = (k*self.P)[0]\n",
    "        y_1 = (k*self.P)[1]\n",
    "        r = mod(x_1,self.q)\n",
    "        if r ==0:\n",
    "            k = ZZ.random_element(1,self.q-1)\n",
    "            x_1 = (k*self.P)[0]\n",
    "            y_1 = (k*self.P)[1]\n",
    "            r = mod(x_1,self.q)\n",
    "        k_1 = mod(k^(-1),self.q)\n",
    "        h = hash(m)\n",
    "        s = mod((k_1*(h+self.chv_priv*r)),self.q)\n",
    "        if s ==0:\n",
    "            k = ZZ.random_element(1,self.q-1)\n",
    "            x_1 = (k*self.P)[0]\n",
    "            y_1 = (k*self.P)[1]\n",
    "            r = mod(x_1,self.q)\n",
    "            if r ==0:\n",
    "                k = ZZ.random_element(1,self.q-1)\n",
    "                x_1 = (k*self.P)[0]\n",
    "                y_1 = (k*self.P)[1]\n",
    "                r = mod(x_1,self.q)\n",
    "            k_1 = mod(k^(-1),self.q)\n",
    "            h = hash(m)\n",
    "            s = mod((k_1*(h+self.chv_priv*r)),self.q)\n",
    "        sig = (r,s)\n",
    "        return sig\n",
    "\n",
    "    def verify(self,sig,m):\n",
    "        r = sig[0]\n",
    "        s = sig[1]\n",
    "        w = mod(s^(-1),self.q)\n",
    "        h = hash(m)\n",
    "        u_1 = mod(h*w,self.q)\n",
    "        u_2 = mod(r*w,self.q)\n",
    "        x_0 = (ZZ(u_1)*self.P+ZZ(u_2)*self.chv_pub)[0]\n",
    "        v = mod(x_0,self.q)\n",
    "        return (v == r)"
   ]
  },
  {
   "cell_type": "code",
   "execution_count": 38,
   "metadata": {},
   "outputs": [],
   "source": [
    "ECDSA = ECDSA()\n",
    "msg = \"Mensagem\";\n",
    "assinatura = ECDSA.sign(msg)"
   ]
  },
  {
   "cell_type": "code",
   "execution_count": 39,
   "metadata": {},
   "outputs": [
    {
     "data": {
      "text/plain": [
       "True"
      ]
     },
     "execution_count": 39,
     "metadata": {},
     "output_type": "execute_result"
    }
   ],
   "source": [
    "ECDSA.verify(assinatura,msg)"
   ]
  }
 ],
 "metadata": {
  "kernelspec": {
   "display_name": "SageMath 8.7",
   "language": "",
   "name": "sagemath"
  },
  "language_info": {
   "codemirror_mode": {
    "name": "ipython",
    "version": 2
   },
   "file_extension": ".py",
   "mimetype": "text/x-python",
   "name": "python",
   "nbconvert_exporter": "python",
   "pygments_lexer": "ipython2",
   "version": "2.7.15"
  }
 },
 "nbformat": 4,
 "nbformat_minor": 1
}
