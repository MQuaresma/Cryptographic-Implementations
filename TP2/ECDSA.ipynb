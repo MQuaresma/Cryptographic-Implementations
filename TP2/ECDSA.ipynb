{
 "cells": [
  {
   "cell_type": "markdown",
   "metadata": {
    "collapsed": true
   },
   "source": [
    "# ECDSA - *Elliptic Curve Digital Signature Algorithm*\n",
    "\n",
    "Segue-se a implementação do ECDSA, usando a curva elitica prima **P-521**, definida no **FIPS186-4**. Note-se que, para a mesma, tomou-se como referência as páginas  394 e 395 do seguinte livro: *S. Yan, Number Theory for Computing, Springer, 2002*.\n",
    "\n",
    "Seja **E** uma curva elíptica sobre $\\mathbb{F}_{p}$, sendo $p$ primo. Seja ainda P um ponto da curva de ordem prima $q$ em $E(\\mathbb{F}_{p})$."
   ]
  },
  {
   "cell_type": "markdown",
   "metadata": {},
   "source": [
    "## SETUP\n",
    "\n",
    "O estabelecimento dos parâmetros usados no processo de assinatura e verificação pode ser descrito da seguinte maneira:\n",
    "\n",
    "1. Gerar aleatoriamente um inteiro $x \\in [1,q-1]$ que será a **chave privada**\n",
    "\n",
    "2. Calcular $Q = xP$ que será a **chave pública**"
   ]
  },
  {
   "cell_type": "markdown",
   "metadata": {},
   "source": [
    "## GERAÇÃO DA ASSINATURA\n",
    "\n",
    "O processo de assinatura de uma mensagem $m$ segue os seguintes passos:\n",
    "\n",
    "1. Gerar aleatoriamente um inteiro $k \\in [1,q-1]$;\n",
    "\n",
    "2. Calcular $kP = (x_{1},y_{1})$ tal que $r\\equiv x_{1} (mod\\ q)$. Se $r=0$, voltar ao ponto 1;\n",
    "\n",
    "3. Calcular $k^{-1} mod\\ q$;\n",
    "\n",
    "4. Calcular $s \\equiv k^{-1}(sha256(m)+x*r)(mod q)$. Se $s=0$, voltar ao ponto 1.\n",
    "\n",
    "A assinatura da mensagem $m$ é o par de inteiros $(r,s).$"
   ]
  },
  {
   "cell_type": "markdown",
   "metadata": {},
   "source": [
    "## VERIFICAÇÃO DA ASSINATURA\n",
    "\n",
    "Dados: \n",
    "- uma assinatura $(r,s)$ \n",
    "- uma mensagem $m$\n",
    "- a chave pública $Q$ associada à chave privada usada para assinar a mensagem\n",
    "\n",
    "o processo de verificação pode ser descrito da seguinte maneira:\n",
    "\n",
    "1. Determinar $w \\equiv s^{-1}(mod\\ q)$ e $h(m)$;\n",
    "\n",
    "2. Calcular $u_{1}\\equiv sha256(m)\\ w\\  (mod\\ q)$ e $u_{2}\\equiv r\\ w\\ (mod\\ q)$;\n",
    "\n",
    "3. Determinar $u_{1}P + u_{2}Q = (x_0,y_0)$ e $v \\equiv x_{0}(mod q)$;\n",
    "\n",
    "4. A assinatura é validade se e só se: $v = r$."
   ]
  },
  {
   "cell_type": "code",
   "execution_count": 16,
   "metadata": {},
   "outputs": [],
   "source": [
    "import hashlib\n",
    "\n",
    "class ECDSA:\n",
    "    def __init__(self):\n",
    "        p = 6864797660130609714981900799081393217269435300143305409394463459185543183397656052122559640661454554977296311391480858037121987999716643812574028291115057151\n",
    "        self.q = 6864797660130609714981900799081393217269435300143305409394463459185543183397655394245057746333217197532963996371363321113864768612440380340372808892707005449\n",
    "        b = Integer(0x051953eb9618e1c9a1f929a21a0b68540eea2da725b99b315f3b8b489918ef109e156193951ec7e937b1652c0bd3bb1bf073573df883d2c34f1ef451fd46b503f00)\n",
    "        E = EllipticCurve(GF(p),[-3, b])\n",
    "        E.set_order(self.q)\n",
    "        self.P = E.random_point()\n",
    "        self.priv_key = ZZ.random_element(1, self.q)\n",
    "        self.pub_key = self.priv_key * self.P\n",
    "\n",
    "    def sign(self, m):\n",
    "        sha256 = hashlib.sha256()\n",
    "        sha256.update(m)\n",
    "        m_hash = int(sha256.hexdigest(), 16)\n",
    "        r = s = 0\n",
    "        while not(r and s):\n",
    "            k = ZZ.random_element(1,self.q)\n",
    "            x = (k*self.P)[0]\n",
    "            r = mod(x, self.q)\n",
    "            if r:\n",
    "                k_1 = mod(k^(-1), self.q)\n",
    "                s = mod((k_1 * (m_hash + self.priv_key * r)), self.q)\n",
    "        sig = (r,s)\n",
    "        return sig\n",
    "\n",
    "    def verify(self, sig ,m):\n",
    "        r = sig[0]\n",
    "        s = sig[1]\n",
    "        w = mod(s^(-1),self.q)\n",
    "        m_hash = int(hashlib.sha256(m).hexdigest(), 16)\n",
    "        u_1 = ZZ(mod(m_hash*w, self.q))\n",
    "        u_2 = ZZ(mod(r*w, self.q))\n",
    "        x_0 = (u_1*self.P+u_2*self.pub_key)[0]\n",
    "        v = mod(x_0, self.q)\n",
    "        return (v == r)"
   ]
  },
  {
   "cell_type": "code",
   "execution_count": 17,
   "metadata": {},
   "outputs": [],
   "source": [
    "ecdsa = ECDSA()\n",
    "msg = \"Mensagem\";\n",
    "assinatura = ecdsa.sign(msg)"
   ]
  },
  {
   "cell_type": "code",
   "execution_count": 18,
   "metadata": {
    "scrolled": false
   },
   "outputs": [
    {
     "data": {
      "text/plain": [
       "True"
      ]
     },
     "execution_count": 18,
     "metadata": {},
     "output_type": "execute_result"
    }
   ],
   "source": [
    "ecdsa.verify(assinatura,msg)"
   ]
  }
 ],
 "metadata": {
  "kernelspec": {
   "display_name": "SageMath 8.7",
   "language": "",
   "name": "sagemath"
  },
  "language_info": {
   "codemirror_mode": {
    "name": "ipython",
    "version": 2
   },
   "file_extension": ".py",
   "mimetype": "text/x-python",
   "name": "python",
   "nbconvert_exporter": "python",
   "pygments_lexer": "ipython2",
   "version": "2.7.15"
  }
 },
 "nbformat": 4,
 "nbformat_minor": 1
}
