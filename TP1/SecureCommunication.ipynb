{
 "cells": [
  {
   "cell_type": "markdown",
   "metadata": {},
   "source": [
    "# Acordo de chaves para comunicação confidencial e autenticada"
   ]
  },
  {
   "cell_type": "markdown",
   "metadata": {},
   "source": [
    "Construção de uma sessão síncrona de comunicação segura entre dois agentes (o Emitter e o Receiver), combinando os seguintes elementos constituintes:\n",
    "a cifra simétrica TAES (AES na sua versão tweak) usando autenticação do criptograma em cada superbloco; \n",
    "o protocolo de acordo de chaves Diffie-Hellman com verificação da chave, e autenticação dos agentes através do esquema de assinaturas DSA.\n",
    "Use chaves DH/DSA de 3072 bits para acordo de chaves e autenticação dos agentes. Tenha em muita atenção os tempos de vida diferentes para as chaves acordadas (chaves de sessão) e as chaves no esquema de assinaturas (chaves “permanentes”)."
   ]
  },
  {
   "cell_type": "markdown",
   "metadata": {},
   "source": [
    "## Connection"
   ]
  },
  {
   "cell_type": "code",
   "execution_count": 8,
   "metadata": {},
   "outputs": [],
   "source": [
    "from multiprocessing import Process, Pipe\n",
    "from getpass import getpass\n",
    "\n",
    "class Connection:\n",
    "    def __init__(self, left, right, timeout=None):\n",
    "        left_end, right_end = Pipe()\n",
    "        self.timeout = timeout\n",
    "        self.lproc = Process(target = left, args=(left_end,))\n",
    "        self.rproc = Process(target = right, args=(right_end,))\n",
    "        self.left = lambda : left(left_end)\n",
    "        self.right = lambda : right(right_end)\n",
    "        \n",
    "    def auto(self, proc=None):\n",
    "        if proc == None:\n",
    "            self.lproc.start()\n",
    "            self.rproc.start()\n",
    "            self.lproc.join(self.timeout)\n",
    "            self.rproc.join(self.timeout)\n",
    "        else:\n",
    "            proc.start()\n",
    "            proc.join(self.timeout)\n",
    "    def manual(self):\n",
    "        self.left()\n",
    "        self.right()"
   ]
  },
  {
   "cell_type": "markdown",
   "metadata": {},
   "source": [
    "## Primitivas criptográficas"
   ]
  },
  {
   "cell_type": "markdown",
   "metadata": {},
   "source": [
    "O uso do esquema Encrypt-then-MAC permite garantir a autenticidade, integridade e confidencialidade das mensagens trocadas entre o `Emitter` e o `Receiver`.\n",
    "Como tal, a cifra simétrica escolhida foi o AES (Advanced Encryption Standard) em modo CFB (Cipher Feedback Mode).\n",
    "O MAC (Message Authentication Code) escolhido foi o HMAC (Hash-MAC) com SHA-256 que permite, por sua vez, garantir a integridade e autenticidade da mensagem trocada."
   ]
  },
  {
   "cell_type": "code",
   "execution_count": 14,
   "metadata": {},
   "outputs": [],
   "source": [
    "from cryptography.hazmat.backends import default_backend\n",
    "from cryptography.hazmat.primitives import hashes, hmac\n",
    "from cryptography.hazmat.primitives.ciphers import algorithms, modes\n",
    "from cryptography.hazmat.primitives.kdf.hkdf import HKDF\n",
    "import os\n",
    "\n",
    "# DH Parameters\n",
    "P = 99494096650139337106186933977618513974146274831566768179581759037259788798151499814653951492724365471316253651463342255785311748602922458795201382445323499931625451272600173180136123245441204133515800495917242011863558721723303661523372572477211620144038809673692512025566673746993593384600667047373692203583\n",
    "G = 44157404837960328768872680677686802650999163226766694797650810379076416463147265401084491113667624054557335394761604876882446924929840681990106974314935015501571333024773172440352475358750668213444607353872754650805031912866692119819377041901642732455911509867728218394542745330014071040326856846990119719675\n",
    "\n",
    "tweak = os.urandom(16)\n",
    "\n",
    "def verifyHMAC(key, tag, ctxt):\n",
    "    \"\"\" Computes the HMAC of a given cipher text and checkes whether it matches with\n",
    "        the given tag i.e. validates the authenticity and integrity of the message\n",
    "    \"\"\"\n",
    "    try:\n",
    "        h = hmac.HMAC(key, hashes.SHA256(), backend=default_backend())\n",
    "        h.update(ctxt)\n",
    "        h.verify(tag)                        #exception on MAC failure\n",
    "        return True\n",
    "    except:\n",
    "        return False\n",
    "\n",
    "def extractMessage(key, iv, tweak_h, ctxt):\n",
    "    \"\"\" Extracts the plain text from a cryptogram resulting from a tweakable cipher\n",
    "        where ptxt = dec(ctxt ^ hash(tweak)) ^ hash(tweak)\n",
    "    \"\"\"\n",
    "    decryptor = Cipher(algorithms.AES(key), modes.CFB(iv), backend=default_backend()).decryptor()\n",
    "    ptxt = (decryptor.update(ctxt ^ tweak_h) + decryptor.finalize()) ^ tweak_h\n",
    "    return ptxt\n",
    "\n",
    "def deriveKey(key_base, key_size, info):\n",
    "    \"\"\" Expands key from key_base to key_size bytes\n",
    "    \"\"\"\n",
    "    key = HKDF(hashes.SHA256(), length=key_size, salt=None, info=info, backend=default_backend()).deriveKey(key_base)\n",
    "    return key\n",
    "    "
   ]
  },
  {
   "cell_type": "markdown",
   "metadata": {},
   "source": [
    "## Emitter"
   ]
  },
  {
   "cell_type": "code",
   "execution_count": 15,
   "metadata": {},
   "outputs": [],
   "source": [
    "from cryptography.hazmat.primitives import hashes, hmac\n",
    "from cryptography.hazmat.backends import default_backend\n",
    "from cryptography.hazmat.primitives.ciphers import (Cipher, algorithms, modes)\n",
    "import os\n",
    "\n",
    "def Emitter(conn):\n",
    "    pwd = getpass('Emitter password: ')\n",
    "    try:\n",
    "        parameters = dh.DHParameterNumbers(P,G).parameters(backend=default_backend()) #receive DH parameters\n",
    "        priv_key = parameters.generate_private_key()\n",
    "        conn.send(priv_key.public_key())                  #send g^y mod p\n",
    "        g_x = conn.recv()\n",
    "        s_key = priv_key.exchange(g_x)  #generate shared secret\n",
    "        \n",
    "        #TODO: derive h_key and c_key from s_key\n",
    "        \n",
    "        header = 'msgheader'.encode(\"utf-8\")\n",
    "        content = 'Here is a sample message for testing'\n",
    "        \n",
    "        iv = os.urandom(16)\n",
    "        cipher = Cipher(algorithms.AES(c_key),modes.CFB(iv),backend).encryptor()\n",
    "        \n",
    "        #TODO: compute tweak hash\n",
    "        content_new = cipher.update(content.encode(\"utf-8\")) + cipher.finalize()\n",
    "        # tweak_h = hash of tweak value\n",
    "        #tweak_h = hmac.HMAC(h_key, hashes.SHA256(), backend=default_backend()).update(tweak)\n",
    "        \n",
    "        #TODO: compute HMAC of header+content_new+iv+tweak_h and send in tag\n",
    "        m_hmac = hmac.HMAC(h_key, hashes.SHA256(), backend=default_backend()).update(content_new)\n",
    "        conn.send(tag)\n",
    "        \n",
    "        payload = {'header': header, 'content': content_new, 'iv':iv, 'm_hmac': m_hmac, 'tweak_h': tweak_h}\n",
    "        conn.send(payload)\n",
    "        conn.close()\n",
    "    except:\n",
    "       print(\"Emitter: Error\")"
   ]
  },
  {
   "cell_type": "markdown",
   "metadata": {},
   "source": [
    "## Receiver\n",
    "\n",
    "O Receiver, após a troca de chaves, e a cada mensagem recebida, efetua uma verificação da autenticidade e integridade da mesma com recurso à função `verifyHMAC` que recebe como parâmetro a chave usada no cálculo do MAC, o MAC esperado e o *input* sobre o qual este deve ser calculado.\n",
    "\n",
    "Caso a mensagem recebida não tenha sido modificada, o `Receiver` procede ao processo de decifragem. Dado tratar-se de\n",
    "uma mensagem cifrada com **TAES** é necessário manipular o criptograma de modo a obter a mensagem original, sendo útil ter em conta a seguinte expressão para o processo de decifragem:\n",
    "\n",
    "$$ ctxt = E_k(ptxt \\oplus h(tweak)) \\oplus h(tweak)$$\n",
    "\n",
    "onde:\n",
    "- $ctxt$ : criptograma recebido\n",
    "- $ptxt$ : mensagem original\n",
    "- $tweak$: tweak/nonce\n",
    "\n",
    "como tal, e tendo ainda em conta que $ D_k = E^{-1}_k $ , a obtenção do texto limpo original($ptxt$) pode ser conseguida da seguinte maneira:\n",
    "\n",
    "$$ ptxt = D_k(ctxt \\oplus h(tweak)) \\oplus h(tweak) \\rightarrow D_k(E_k(ptxt \\oplus h(tweak)) \\oplus h(tweak) \\oplus h(tweak)) \\oplus h(tweak) \\rightarrow D_k(E_k(ptxt \\oplus h(tweak))) \\oplus h(tweak) \\rightarrow ptxt \\oplus h(tweak) \\oplus h(tweak) \\rightarrow ptxt $$\n",
    "\n",
    "Este processo é implementado pela função `extractMessage` que recebe como parâmetros a chave acordada (`key`), o vetor de inicialização (`iv`), o *hash* do *tweak* (`tweak_h`) e o criptograma (`ctxt`), devolvendo o resultado de aplicar a expressão anteriormente apresentada.\n"
   ]
  },
  {
   "cell_type": "code",
   "execution_count": 16,
   "metadata": {},
   "outputs": [],
   "source": [
    "def Receiver(conn):\n",
    "    pwd = getpass('Reciever password: ')\n",
    "    try:\n",
    "        parameters = dh.DHParameterNumbers(P,G).parameters(backend=default_backend())\n",
    "        g_y = conn.recv()\n",
    "        priv_key = parameters.generate_private_key()\n",
    "        conn.send(priv_key.public_key())                   #send g^x mod y\n",
    "        \n",
    "        s_key = priv_key.exchange(g_y)\n",
    "        d_key = deriveKey(key, 32, b\"DH Key Exchange\")\n",
    "        c_key = d_key[:128]\n",
    "        h_key = d_key[128:]\n",
    "        \n",
    "        payload = conn.recv()\n",
    "        header = payload['header']\n",
    "        ctxt = payload['content']\n",
    "        iv = payload['iv']\n",
    "        m_hmac = payload['m_hmac']\n",
    "        tweak_h = payload['tweak_h']\n",
    "        \n",
    "        if verifyHMAC(h_key, m_hmac, header+ctxt+iv+tweak_h):\n",
    "            msg = extractMessage(c_key, ctxt, tweak_h)\n",
    "            print(\"Received: \" + msg.decode(\"utf-8\"))\n",
    "        conn.close()\n",
    "    except:\n",
    "        print(\"Receiver: Erro na decifragem\")"
   ]
  },
  {
   "cell_type": "markdown",
   "metadata": {},
   "source": [
    "O estabelecimento de uma conexão entre os dois intervenientes (`Emitter` e `Receiver`)  é feita invocando o método `auto` da classe `Connection` que cria uma comunicação síncrona entre ambos. \n",
    "Este sincronismo é exigido pelo protocolo de troca de chaves (Diffie Hellman)"
   ]
  }
 ],
 "metadata": {
  "kernelspec": {
   "display_name": "Python 3",
   "language": "python",
   "name": "python3"
  },
  "language_info": {
   "codemirror_mode": {
    "name": "ipython",
    "version": 3
   },
   "file_extension": ".py",
   "mimetype": "text/x-python",
   "name": "python",
   "nbconvert_exporter": "python",
   "pygments_lexer": "ipython3",
   "version": "3.7.2"
  }
 },
 "nbformat": 4,
 "nbformat_minor": 2
}
