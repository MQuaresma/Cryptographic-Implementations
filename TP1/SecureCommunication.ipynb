{
 "cells": [
  {
   "cell_type": "markdown",
   "metadata": {},
   "source": [
    "# Acordo de chaves para comunicação confidencial e autenticada"
   ]
  },
  {
   "cell_type": "markdown",
   "metadata": {},
   "source": [
    "## Connection"
   ]
  },
  {
   "cell_type": "code",
   "execution_count": 5,
   "metadata": {},
   "outputs": [],
   "source": [
    "from multiprocessing import Process, Pipe\n",
    "from getpass import getpass\n",
    "\n",
    "class Connection:\n",
    "    def __init__(self, left, right, timeout=None):\n",
    "        left_end, right_end = Pipe()\n",
    "        self.timeout = timeout\n",
    "        self.lproc = Process(target = left, args=(left_end,))\n",
    "        self.rproc = Process(target = right, args=(right_end,))\n",
    "        self.left = lambda : left(left_end)\n",
    "        self.right = lambda : right(right_end)\n",
    "        \n",
    "    def auto(self, proc=None):\n",
    "        if proc == None:\n",
    "            self.lproc.start()\n",
    "            self.rproc.start()\n",
    "            self.lproc.join(self.timeout)\n",
    "            self.rproc.join(self.timeout)\n",
    "        else:\n",
    "            proc.start()\n",
    "            proc.join(self.timeout)\n",
    "    def manual(self):\n",
    "        self.left()\n",
    "        self.right()"
   ]
  },
  {
   "cell_type": "markdown",
   "metadata": {},
   "source": [
    "## Emitter"
   ]
  },
  {
   "cell_type": "code",
   "execution_count": 3,
   "metadata": {},
   "outputs": [],
   "source": [
    "def Emitter(conn):\n",
    "    pwd = getpass('Emitter password: ')\n",
    "    try:\n",
    "        #TODO: key exchange DH\n",
    "        iv = os.urandom(12)\n",
    "        #TODO: AES in CFB\n",
    "        #TODO: hash tweak . SHA256\n",
    "        cipher = Cipher(algorithms.AES(key),modes.GCM(iv),backend).encryptor()\n",
    "\n",
    "        header = 'msgheader'.encode(\"utf-8\")\n",
    "        content = 'Here is a sample message for testing'\n",
    "        #TODO: XOR w/ msg & hash tweak \n",
    "        cipher.authenticate_additional_data(header)\n",
    "        content = cipher.update(content.encode(\"utf-8\")) + cipher.finalize()\n",
    "        #TODO: XOR w/ cryptogram & hash tweak\n",
    "        payload = {'header': header, 'content': content, 'iv':iv, 'tag': cipher.tag}\n",
    "\n",
    "        conn.send(payload)\n",
    "        conn.close()\n",
    "    except:\n",
    "        print(\"Emitter: Error\")"
   ]
  },
  {
   "cell_type": "code",
   "execution_count": 6,
   "metadata": {},
   "outputs": [],
   "source": [
    "from cryptography.hazmat.backends import default_backend\n",
    "from cryptography.hazmat.primitives import hashes, hmac\n",
    "from cryptography.hazmat.primitives.ciphers import algorithms, modes\n",
    "\n",
    "def Receiver(conn):\n",
    "    pwd = getpass('Reciever password: ')\n",
    "    try:\n",
    "        #TODO: key exchange\n",
    "        payload = conn.recv()\n",
    "        iv = payload['iv']\n",
    "        m_hmac = payload['m_hmac']\n",
    "        header = payload['header']\n",
    "        ctxt = payload['content']\n",
    "        if verifyHMAC(h_key, m_hmac, header+ctxt):\n",
    "            decryptor = Cipher(algorithms.AES(key),modes.GCM(iv, tag),backend).decryptor()\n",
    "            msg = extractMessage(c_key, ctxt, tweak_h)\n",
    "            print(\"Received: \" + msg.decode(\"utf-8\"))\n",
    "        conn.close()\n",
    "    except:\n",
    "        print(\"Receiver: Erro na decifragem\")\n",
    "\n",
    "def verifyHMAC(key, tag, ctxt):\n",
    "    \"\"\" Computes the HMAC of a given cipher text and checkes whether it matches with\n",
    "        the given tag i.e. validates the authenticity and integrity of the message\n",
    "    \"\"\"\n",
    "    try:\n",
    "        h = hmac.HMAC(key, hashes.SHA256(), backend=default_backend())\n",
    "        h.update(ctxt)\n",
    "        h.verify(tag)                        #exception on MAC failure\n",
    "        return True\n",
    "    except:\n",
    "        return False\n",
    "\n",
    "def extractMessage(key, iv, tweak_h, ctxt):\n",
    "    \"\"\" Extracts the plain text from a cryptogram resulting from a tweakable cipher\n",
    "        where ptxt = dec(ctxt ^ hash(tweak)) ^ hash(tweak)\n",
    "    \"\"\"\n",
    "    decryptor = Cipher(algorithms.AES(key), modes.CFB(iv), backend=default_backend()).decryptor()\n",
    "    ptxt = (decryptor.update(ctxt ^ tweak_h) + decryptor.finalize()) ^ tweak_h\n",
    "    return ptxt"
   ]
  },
  {
   "cell_type": "markdown",
   "metadata": {},
   "source": [
    "O estabelecimento de uma conexão entre os dois intervenientes (`Emitter` e `Receiver`)  é feita invocando o método `auto` da classe `Connection` que cria uma comunicação síncrona entre ambos. \n",
    "Este sincronismo é exigido pelo protocolo de troca de chaves (Diffie Hellman)"
   ]
  }
 ],
 "metadata": {
  "kernelspec": {
   "display_name": "Python 3",
   "language": "python",
   "name": "python3"
  },
  "language_info": {
   "codemirror_mode": {
    "name": "ipython",
    "version": 3
   },
   "file_extension": ".py",
   "mimetype": "text/x-python",
   "name": "python",
   "nbconvert_exporter": "python",
   "pygments_lexer": "ipython3",
   "version": "3.7.2"
  }
 },
 "nbformat": 4,
 "nbformat_minor": 2
}
