{
 "cells": [
  {
   "cell_type": "markdown",
   "metadata": {},
   "source": [
    "# Acordo de chaves para comunicação confidencial e autenticada"
   ]
  },
  {
   "cell_type": "markdown",
   "metadata": {},
   "source": [
    "## Connection"
   ]
  },
  {
   "cell_type": "code",
   "execution_count": 1,
   "metadata": {},
   "outputs": [],
   "source": [
    "from multiprocessing import Process, Pipe\n",
    "from getpass import getpass\n",
    "\n",
    "class Connection:\n",
    "    def __init__(self, left, right, timeout=None):\n",
    "        left_end, right_end = Pipe()\n",
    "        self.timeout = timeout\n",
    "        self.lproc = Process(target = left, args=(left_end,))\n",
    "        self.rproc = Process(target = right, args=(right_end,))\n",
    "        self.left = lambda : left(left_end)\n",
    "        self.right = lambda : right(right_end)\n",
    "        \n",
    "    def auto(self, proc=None):\n",
    "        if proc == None:\n",
    "            self.lproc.start()\n",
    "            self.rproc.start()\n",
    "            self.lproc.join(self.timeout)\n",
    "            self.rproc.join(self.timeout)\n",
    "        else:\n",
    "            proc.start()\n",
    "            proc.join(self.timeout)\n",
    "    def manual(self):\n",
    "        self.left()\n",
    "        self.right()"
   ]
  },
  {
   "cell_type": "markdown",
   "metadata": {},
   "source": [
    "## Primitivas criptográficas"
   ]
  },
  {
   "cell_type": "markdown",
   "metadata": {},
   "source": [
    "O uso do esquema Encrypt-then-MAC permitiu garantir a autenticidade, integridade e confidencialidade das mensagens trocadas entre o `Emitter` e o `Receiver`.\n",
    "Como tal, a cifra simétrica escolhida foi o AES (Advanced Encryption Standard) em modo CFB (Cipher Feedback Mode).\n",
    "O MAC (Message Authentication Code) escolhido foi o HMAC (Hash-MAC) com SHA-256 que permitiu garantir a integridade\n",
    "e autenticidade da mensagem trocada."
   ]
  },
  {
   "cell_type": "code",
   "execution_count": 7,
   "metadata": {},
   "outputs": [],
   "source": [
    "from cryptography.hazmat.backends import default_backend\n",
    "from cryptography.hazmat.primitives import hashes, hmac\n",
    "from cryptography.hazmat.primitives.ciphers import algorithms, modes\n",
    "\n",
    "# DH Parameters\n",
    "P = 99494096650139337106186933977618513974146274831566768179581759037259788798151499814653951492724365471316253651463342255785311748602922458795201382445323499931625451272600173180136123245441204133515800495917242011863558721723303661523372572477211620144038809673692512025566673746993593384600667047373692203583\n",
    "G = 44157404837960328768872680677686802650999163226766694797650810379076416463147265401084491113667624054557335394761604876882446924929840681990106974314935015501571333024773172440352475358750668213444607353872754650805031912866692119819377041901642732455911509867728218394542745330014071040326856846990119719675\n",
    "\n",
    "def verifyHMAC(key, tag, ctxt):\n",
    "    \"\"\" Computes the HMAC of a given cipher text and checkes whether it matches with\n",
    "        the given tag i.e. validates the authenticity and integrity of the message\n",
    "    \"\"\"\n",
    "    try:\n",
    "        h = hmac.HMAC(key, hashes.SHA256(), backend=default_backend())\n",
    "        h.update(ctxt)\n",
    "        h.verify(tag)                        #exception on MAC failure\n",
    "        return True\n",
    "    except:\n",
    "        return False\n",
    "\n",
    "def extractMessage(key, iv, tweak_h, ctxt):\n",
    "    \"\"\" Extracts the plain text from a cryptogram resulting from a tweakable cipher\n",
    "        where ptxt = dec(ctxt ^ hash(tweak)) ^ hash(tweak)\n",
    "    \"\"\"\n",
    "    decryptor = Cipher(algorithms.AES(key), modes.CFB(iv), backend=default_backend()).decryptor()\n",
    "    ptxt = (decryptor.update(ctxt ^ tweak_h) + decryptor.finalize()) ^ tweak_h\n",
    "    return ptxt"
   ]
  },
  {
   "cell_type": "markdown",
   "metadata": {},
   "source": [
    "## Emitter"
   ]
  },
  {
   "cell_type": "code",
   "execution_count": 3,
   "metadata": {},
   "outputs": [],
   "source": [
    "def Emitter(conn):\n",
    "    pwd = getpass('Emitter password: ')\n",
    "    try:\n",
    "        #TODO: key exchange DH\n",
    "        iv = os.urandom(12)\n",
    "        #TODO: AES in CFB\n",
    "        #TODO: hash tweak . SHA256\n",
    "        cipher = Cipher(algorithms.AES(key),modes.GCM(iv),backend).encryptor()\n",
    "\n",
    "        header = 'msgheader'.encode(\"utf-8\")\n",
    "        content = 'Here is a sample message for testing'\n",
    "        #TODO: XOR w/ msg & hash tweak \n",
    "        cipher.authenticate_additional_data(header)\n",
    "        content = cipher.update(content.encode(\"utf-8\")) + cipher.finalize()\n",
    "        #TODO: XOR w/ cryptogram & hash tweak\n",
    "        payload = {'header': header, 'content': content, 'iv':iv, 'tag': cipher.tag}\n",
    "\n",
    "        conn.send(payload)\n",
    "        conn.close()\n",
    "    except:\n",
    "        print(\"Emitter: Error\")"
   ]
  },
  {
   "cell_type": "markdown",
   "metadata": {},
   "source": [
    "## Receiver\n",
    "\n",
    "O Receiver, após a troca de chaves, e cada mensagem recebida, efetua uma verificação da autenticidade e integridade da mesma com recurso à função `verifyHMAC` que recebe como parâmetro a chave usada no cálculo do MAC, o MAC esperado e o *input* sobre o qual este deve ser calculado.\n",
    "\n",
    "Caso a mensagem recebida não tenha sido modificada, o `Receiver` procede ao processo de decifragem. Dado tratar-se de\n",
    "uma mensagem cifrada com **TAES** é necessário manipular o criptograma de modo a obter a mensagem original, sendo útil ter em conta a seguinte expressão para o processo de decifragem:\n",
    "\n",
    "$$ ctxt = E_k(ptxt \\oplus h(tweak)) \\oplus h(tweak)$$\n",
    "\n",
    "onde:\n",
    "- $ctxt$ : criptograma recebido\n",
    "- $ptxt$ : mensagem original\n",
    "- $tweak$: tweak/nonce\n",
    "\n",
    "como tal, e tendo ainda em conta que $ D_k = E^{-1}_k $ , a obtenção do texto limpo original($ptxt$) pode ser conseguida da seguinte maneira:\n",
    "\n",
    "$$ ptxt = D_k(ctxt \\oplus h(tweak)) \\oplus h(tweak) \\rightarrow D_k(E_k(ptxt \\oplus h(tweak)) \\oplus h(tweak) \\oplus h(tweak)) \\oplus h(tweak) \\rightarrow D_k(E_k(ptxt \\oplus h(tweak))) \\oplus h(tweak) \\rightarrow ptxt \\oplus h(tweak) \\oplus h(tweak) \\rightarrow ptxt $$\n",
    "\n",
    "Este processo é implementado pela função `extractMessage` que recebe como parâmetros a chave acordada (`key`), o vetor de inicialização (`iv`), o *hash* do *tweak* (`tweak_h`) e o criptograma (`ctxt`), devolvendo o resultado de aplicar a expressão anteriormente apresentada.\n"
   ]
  },
  {
   "cell_type": "code",
   "execution_count": 6,
   "metadata": {},
   "outputs": [],
   "source": [
    "def Receiver(conn):\n",
    "    pwd = getpass('Reciever password: ')\n",
    "    try:\n",
    "        #TODO: key exchange\n",
    "        payload = conn.recv()\n",
    "        iv = payload['iv']\n",
    "        m_hmac = payload['m_hmac']\n",
    "        header = payload['header']\n",
    "        ctxt = payload['content']\n",
    "        if verifyHMAC(h_key, m_hmac, header+ctxt):\n",
    "            msg = extractMessage(c_key, ctxt, tweak_h)\n",
    "            print(\"Received: \" + msg.decode(\"utf-8\"))\n",
    "        conn.close()\n",
    "    except:\n",
    "        print(\"Receiver: Erro na decifragem\")"
   ]
  },
  {
   "cell_type": "markdown",
   "metadata": {},
   "source": [
    "O estabelecimento de uma conexão entre os dois intervenientes (`Emitter` e `Receiver`)  é feita invocando o método `auto` da classe `Connection` que cria uma comunicação síncrona entre ambos. \n",
    "Este sincronismo é exigido pelo protocolo de troca de chaves (Diffie Hellman)"
   ]
  }
 ],
 "metadata": {
  "kernelspec": {
   "display_name": "Python 3",
   "language": "python",
   "name": "python3"
  },
  "language_info": {
   "codemirror_mode": {
    "name": "ipython",
    "version": 3
   },
   "file_extension": ".py",
   "mimetype": "text/x-python",
   "name": "python",
   "nbconvert_exporter": "python",
   "pygments_lexer": "ipython3",
   "version": "3.7.2"
  }
 },
 "nbformat": 4,
 "nbformat_minor": 2
}
